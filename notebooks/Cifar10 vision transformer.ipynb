{
 "cells": [
  {
   "cell_type": "code",
   "execution_count": 1,
   "id": "421421f5",
   "metadata": {},
   "outputs": [],
   "source": [
    "import torch\n",
    "import torch.nn as nn\n",
    "import torch.nn.functional as F\n",
    "import torchvision\n",
    "\n",
    "import matplotlib.pyplot as plt\n",
    "import tqdm.notebook as tqdm"
   ]
  },
  {
   "cell_type": "code",
   "execution_count": 2,
   "id": "5c461c31",
   "metadata": {},
   "outputs": [
    {
     "name": "stdout",
     "output_type": "stream",
     "text": [
      "Files already downloaded and verified\n",
      "torch.Size([128, 3, 32, 32]) torch.Size([128])\n",
      "tensor([8, 5, 9, 1, 1, 8, 1, 1, 1, 1, 9, 4, 9, 5, 5, 1, 7, 0, 2, 9, 1, 3, 5, 6,\n",
      "        7, 0, 6, 8, 5, 4, 8, 9, 0, 6, 5, 8, 7, 3, 7, 6, 9, 1, 9, 9, 5, 8, 4, 8,\n",
      "        0, 3, 4, 6, 3, 3, 6, 9, 5, 8, 7, 6, 0, 9, 9, 7, 5, 6, 0, 3, 0, 7, 1, 1,\n",
      "        3, 9, 5, 8, 9, 3, 7, 1, 1, 0, 7, 1, 4, 3, 7, 3, 9, 4, 8, 2, 0, 4, 5, 0,\n",
      "        1, 9, 3, 1, 7, 4, 9, 5, 0, 6, 7, 6, 3, 1, 6, 7, 2, 7, 3, 8, 6, 4, 2, 1,\n",
      "        9, 4, 0, 8, 4, 2, 4, 2])\n"
     ]
    }
   ],
   "source": [
    "# Let's load some other image dataset\n",
    "\n",
    "normalize = torchvision.transforms.Normalize(mean=[0.485, 0.456, 0.406],\n",
    "                                 std=[0.229, 0.224, 0.225])\n",
    "\n",
    "train_loader = torch.utils.data.DataLoader(\n",
    "    torchvision.datasets.CIFAR10(root='./data', train=True, transform=torchvision.transforms.Compose([\n",
    "        torchvision.transforms.RandomHorizontalFlip(),\n",
    "        torchvision.transforms.RandomCrop(32, 4),\n",
    "        torchvision.transforms.ToTensor(),\n",
    "        normalize,\n",
    "    ]), download=True),\n",
    "    batch_size=128, shuffle=True, num_workers=8)\n",
    "\n",
    "val_loader = torch.utils.data.DataLoader(\n",
    "    torchvision.datasets.CIFAR10(root='./data', train=False, transform=torchvision.transforms.Compose([\n",
    "        torchvision.transforms.ToTensor(),\n",
    "        normalize,\n",
    "    ])),\n",
    "    batch_size=128, shuffle=False,\n",
    "    num_workers=8, pin_memory=True)\n",
    "\n",
    "for input, target in train_loader:\n",
    "    print(input.shape, target.shape)\n",
    "    print(target)\n",
    "    break"
   ]
  },
  {
   "cell_type": "code",
   "execution_count": 3,
   "id": "871df2ba",
   "metadata": {},
   "outputs": [
    {
     "name": "stderr",
     "output_type": "stream",
     "text": [
      "Clipping input data to the valid range for imshow with RGB data ([0..1] for floats or [0..255] for integers). Got range [-2.117904..2.64].\n"
     ]
    },
    {
     "data": {
      "text/plain": [
       "<matplotlib.image.AxesImage at 0x77f214bb3050>"
      ]
     },
     "execution_count": 3,
     "metadata": {},
     "output_type": "execute_result"
    },
    {
     "data": {
      "image/png": "[encoded data removed]",
      "text/plain": [
       "<Figure size 640x480 with 1 Axes>"
      ]
     },
     "metadata": {},
     "output_type": "display_data"
    }
   ],
   "source": [
    "plt.imshow(input[7].permute(1,2,0))"
   ]
  },
  {
   "cell_type": "code",
   "execution_count": 4,
   "id": "59c810f0",
   "metadata": {},
   "outputs": [],
   "source": [
    "# Basic blocks\n",
    "\n",
    "class SelfAttention(nn.Module):\n",
    "    def __init__(self, embed_size, num_heads):\n",
    "        super().__init__()\n",
    "        \n",
    "        self.q_proj = nn.Linear(embed_size, embed_size, bias=False)\n",
    "        self.k_proj = nn.Linear(embed_size, embed_size, bias=False)\n",
    "        self.v_proj = nn.Linear(embed_size, embed_size, bias=False)\n",
    "        self.o_proj = nn.Linear(embed_size, embed_size, bias=False)\n",
    "        \n",
    "        self.num_heads = num_heads\n",
    "        self.head_size = embed_size // num_heads\n",
    "        \n",
    "    def forward(self, x):\n",
    "        B, L, E = x.shape\n",
    "        q = self.q_proj(x).reshape(B, L, self.num_heads, self.head_size).transpose(1, 2)\n",
    "        k = self.k_proj(x).reshape(B, L, self.num_heads, self.head_size).transpose(1, 2)\n",
    "        v = self.v_proj(x).reshape(B, L, self.num_heads, self.head_size).transpose(1, 2)\n",
    "        \n",
    "        # This is what you want to use in practice\n",
    "        attn_out = F.scaled_dot_product_attention(q, k, v)\n",
    "        reshaped = attn_out.transpose(1,2).reshape(B, L, E)\n",
    "        return self.o_proj(reshaped)\n",
    "            \n",
    "        \n",
    "class Block(nn.Module):\n",
    "    def __init__(self, embed_size, num_heads):\n",
    "        super().__init__()\n",
    "        \n",
    "        self.norm1 = nn.LayerNorm(embed_size)\n",
    "        self.norm2 = nn.LayerNorm(embed_size)\n",
    "        \n",
    "        self.self_attn = SelfAttention(embed_size, num_heads)\n",
    "        \n",
    "        # We also have an MLP block, it's contents differ, LLaMA uses complicated structure, we will\n",
    "        # keep the simple one\n",
    "        self.mlp = nn.Sequential(\n",
    "            nn.Linear(embed_size, 4*embed_size),\n",
    "            nn.SiLU(),\n",
    "            nn.Linear(4*embed_size, embed_size)\n",
    "        )\n",
    "        \n",
    "    def forward(self, x):\n",
    "        # Why do we do self addition and normalization? Next lecture!\n",
    "        x = x + self.self_attn(self.norm1(x))\n",
    "        x = x + self.mlp(self.norm1(x))\n",
    "        return x"
   ]
  },
  {
   "cell_type": "code",
   "execution_count": 5,
   "id": "e0f7d848",
   "metadata": {},
   "outputs": [
    {
     "data": {
      "text/plain": [
       "torch.Size([128, 64, 47])"
      ]
     },
     "execution_count": 5,
     "metadata": {},
     "output_type": "execute_result"
    }
   ],
   "source": [
    "# Cut image into 4x4 pieces and turn each one into vector\n",
    "\n",
    "class Patcher(nn.Module):\n",
    "    def __init__(self, patch_size, embed_size):\n",
    "        super().__init__()\n",
    "        \n",
    "        self.patch = nn.Conv2d(3, embed_size, patch_size, stride=patch_size)\n",
    "        \n",
    "    def forward(self, x):\n",
    "        patched = self.patch(x)\n",
    "        # Now we have shape: B, embed_size, H/4, W/4\n",
    "        return patched.flatten(2).permute(0, 2, 1)\n",
    "    \n",
    "Patcher(4, 47)(input).shape"
   ]
  },
  {
   "cell_type": "code",
   "execution_count": 6,
   "id": "32bbb91e",
   "metadata": {},
   "outputs": [
    {
     "data": {
      "text/plain": [
       "torch.Size([128, 10])"
      ]
     },
     "execution_count": 6,
     "metadata": {},
     "output_type": "execute_result"
    }
   ],
   "source": [
    "class Model(nn.Module):\n",
    "    def __init__(self, patch_size, image_shape, embed_size, num_heads, n_blocks, n_classes):\n",
    "        super().__init__()\n",
    "        \n",
    "        self.patcher = Patcher(patch_size, embed_size)\n",
    "        total_pos_embs = (image_shape // patch_size) ** 2\n",
    "        \n",
    "        self.pos_embed = nn.Parameter(torch.randn(total_pos_embs, embed_size))\n",
    "        \n",
    "        # This token will gather information about output\n",
    "        self.class_token = nn.Parameter(torch.rand(embed_size))\n",
    "        \n",
    "        self.blocks = nn.Sequential(\n",
    "            *[Block(embed_size, num_heads) for _ in range(n_blocks)]\n",
    "        )\n",
    "        \n",
    "        self.out_norm = nn.LayerNorm(embed_size)\n",
    "        self.out = nn.Linear(embed_size, n_classes)\n",
    "        \n",
    "    def forward(self, x):\n",
    "        patched = self.patcher(x) + self.pos_embed\n",
    "        B = x.shape[0]\n",
    "        with_cls_token = torch.cat([self.class_token.repeat(B, 1, 1), patched], dim=1)\n",
    "        \n",
    "        z = self.blocks(with_cls_token)\n",
    "        z = self.out_norm(z[:,0])\n",
    "        return self.out(z)\n",
    "    \n",
    "Model(4, 32, 64, 4, 4, 10)(input).shape"
   ]
  },
  {
   "cell_type": "code",
   "execution_count": null,
   "id": "cdd9248a",
   "metadata": {},
   "outputs": [
    {
     "data": {
      "application/vnd.jupyter.widget-view+json": {
       "model_id": "baa18db0a6504442be1c4f083352ec40",
       "version_major": 2,
       "version_minor": 0
      },
      "text/plain": [
       "  0%|          | 0/391 [00:00<?, ?it/s]"
      ]
     },
     "metadata": {},
     "output_type": "display_data"
    },
    {
     "name": "stdout",
     "output_type": "stream",
     "text": [
      "train loss 1.900852107330966 train acc 0.2898\n"
     ]
    },
    {
     "data": {
      "application/vnd.jupyter.widget-view+json": {
       "model_id": "d24846c320b342d58fa106e187ca3598",
       "version_major": 2,
       "version_minor": 0
      },
      "text/plain": [
       "  0%|          | 0/79 [00:00<?, ?it/s]"
      ]
     },
     "metadata": {},
     "output_type": "display_data"
    },
    {
     "name": "stdout",
     "output_type": "stream",
     "text": [
      "val loss 1.7291155133066298 val acc 0.3606\n"
     ]
    },
    {
     "data": {
      "application/vnd.jupyter.widget-view+json": {
       "model_id": "e7529d632017478ab2a9adabac80137b",
       "version_major": 2,
       "version_minor": 0
      },
      "text/plain": [
       "  0%|          | 0/391 [00:00<?, ?it/s]"
      ]
     },
     "metadata": {},
     "output_type": "display_data"
    },
    {
     "name": "stdout",
     "output_type": "stream",
     "text": [
      "train loss 1.6358406848614784 train acc 0.39918\n"
     ]
    },
    {
     "data": {
      "application/vnd.jupyter.widget-view+json": {
       "model_id": "23a3145d7bc84e1cb733f6138165073e",
       "version_major": 2,
       "version_minor": 0
      },
      "text/plain": [
       "  0%|          | 0/79 [00:00<?, ?it/s]"
      ]
     },
     "metadata": {},
     "output_type": "display_data"
    },
    {
     "name": "stdout",
     "output_type": "stream",
     "text": [
      "val loss 1.5253909916817388 val acc 0.4492\n"
     ]
    },
    {
     "data": {
      "application/vnd.jupyter.widget-view+json": {
       "model_id": "fcdfca2f3bbc4aa593a537472eb0d145",
       "version_major": 2,
       "version_minor": 0
      },
      "text/plain": [
       "  0%|          | 0/391 [00:00<?, ?it/s]"
      ]
     },
     "metadata": {},
     "output_type": "display_data"
    },
    {
     "name": "stdout",
     "output_type": "stream",
     "text": [
      "train loss 1.511778701906619 train acc 0.44626\n"
     ]
    },
    {
     "data": {
      "application/vnd.jupyter.widget-view+json": {
       "model_id": "3dfb4782859749a69236f71ca387b4f8",
       "version_major": 2,
       "version_minor": 0
      },
      "text/plain": [
       "  0%|          | 0/79 [00:00<?, ?it/s]"
      ]
     },
     "metadata": {},
     "output_type": "display_data"
    },
    {
     "name": "stdout",
     "output_type": "stream",
     "text": [
      "val loss 1.4030157267292844 val acc 0.4921\n"
     ]
    },
    {
     "data": {
      "application/vnd.jupyter.widget-view+json": {
       "model_id": "6d9f80a24f13434c9bf0670e4e997920",
       "version_major": 2,
       "version_minor": 0
      },
      "text/plain": [
       "  0%|          | 0/391 [00:00<?, ?it/s]"
      ]
     },
     "metadata": {},
     "output_type": "display_data"
    },
    {
     "name": "stdout",
     "output_type": "stream",
     "text": [
      "train loss 1.4261486173590736 train acc 0.47896\n"
     ]
    },
    {
     "data": {
      "application/vnd.jupyter.widget-view+json": {
       "model_id": "c961710d38c14a0cb438f75422f38d45",
       "version_major": 2,
       "version_minor": 0
      },
      "text/plain": [
       "  0%|          | 0/79 [00:00<?, ?it/s]"
      ]
     },
     "metadata": {},
     "output_type": "display_data"
    },
    {
     "name": "stdout",
     "output_type": "stream",
     "text": [
      "val loss 1.3471856177607668 val acc 0.5108\n"
     ]
    },
    {
     "data": {
      "application/vnd.jupyter.widget-view+json": {
       "model_id": "94c403b3c3a04aafa30b50c864eaf79b",
       "version_major": 2,
       "version_minor": 0
      },
      "text/plain": [
       "  0%|          | 0/391 [00:00<?, ?it/s]"
      ]
     },
     "metadata": {},
     "output_type": "display_data"
    },
    {
     "name": "stdout",
     "output_type": "stream",
     "text": [
      "train loss 1.3670128894888836 train acc 0.50368\n"
     ]
    },
    {
     "data": {
      "application/vnd.jupyter.widget-view+json": {
       "model_id": "8a736b3e9001468eb28f14226683194d",
       "version_major": 2,
       "version_minor": 0
      },
      "text/plain": [
       "  0%|          | 0/79 [00:00<?, ?it/s]"
      ]
     },
     "metadata": {},
     "output_type": "display_data"
    },
    {
     "name": "stdout",
     "output_type": "stream",
     "text": [
      "val loss 1.2988118114350717 val acc 0.5329\n"
     ]
    },
    {
     "data": {
      "application/vnd.jupyter.widget-view+json": {
       "model_id": "eb5cccf0230341aeb23eaaa60daf9caa",
       "version_major": 2,
       "version_minor": 0
      },
      "text/plain": [
       "  0%|          | 0/391 [00:00<?, ?it/s]"
      ]
     },
     "metadata": {},
     "output_type": "display_data"
    },
    {
     "name": "stdout",
     "output_type": "stream",
     "text": [
      "train loss 1.3226659063183133 train acc 0.51728\n"
     ]
    },
    {
     "data": {
      "application/vnd.jupyter.widget-view+json": {
       "model_id": "9df207e8399b42b9a05ef10f049d8850",
       "version_major": 2,
       "version_minor": 0
      },
      "text/plain": [
       "  0%|          | 0/79 [00:00<?, ?it/s]"
      ]
     },
     "metadata": {},
     "output_type": "display_data"
    },
    {
     "name": "stdout",
     "output_type": "stream",
     "text": [
      "val loss 1.2614819445187533 val acc 0.5402\n"
     ]
    },
    {
     "data": {
      "application/vnd.jupyter.widget-view+json": {
       "model_id": "5e72e26a1ec149e6b3de1f149b65368e",
       "version_major": 2,
       "version_minor": 0
      },
      "text/plain": [
       "  0%|          | 0/391 [00:00<?, ?it/s]"
      ]
     },
     "metadata": {},
     "output_type": "display_data"
    },
    {
     "name": "stdout",
     "output_type": "stream",
     "text": [
      "train loss 1.2802004564143812 train acc 0.5356\n"
     ]
    },
    {
     "data": {
      "application/vnd.jupyter.widget-view+json": {
       "model_id": "c6094553eb1e4e368d4e86b41d82c117",
       "version_major": 2,
       "version_minor": 0
      },
      "text/plain": [
       "  0%|          | 0/79 [00:00<?, ?it/s]"
      ]
     },
     "metadata": {},
     "output_type": "display_data"
    },
    {
     "name": "stdout",
     "output_type": "stream",
     "text": [
      "val loss 1.2230194112922572 val acc 0.5621\n"
     ]
    },
    {
     "data": {
      "application/vnd.jupyter.widget-view+json": {
       "model_id": "4e60d3021a874a96b569d69e87f15cc1",
       "version_major": 2,
       "version_minor": 0
      },
      "text/plain": [
       "  0%|          | 0/391 [00:00<?, ?it/s]"
      ]
     },
     "metadata": {},
     "output_type": "display_data"
    },
    {
     "name": "stdout",
     "output_type": "stream",
     "text": [
      "train loss 1.2448157968423557 train acc 0.5504\n"
     ]
    },
    {
     "data": {
      "application/vnd.jupyter.widget-view+json": {
       "model_id": "f9716e34d7dd4b4689359cc7384286ab",
       "version_major": 2,
       "version_minor": 0
      },
      "text/plain": [
       "  0%|          | 0/79 [00:00<?, ?it/s]"
      ]
     },
     "metadata": {},
     "output_type": "display_data"
    },
    {
     "name": "stdout",
     "output_type": "stream",
     "text": [
      "val loss 1.2193967119047913 val acc 0.5621\n"
     ]
    },
    {
     "data": {
      "application/vnd.jupyter.widget-view+json": {
       "model_id": "43576db3753a4aa4b05006d867b3c893",
       "version_major": 2,
       "version_minor": 0
      },
      "text/plain": [
       "  0%|          | 0/391 [00:00<?, ?it/s]"
      ]
     },
     "metadata": {},
     "output_type": "display_data"
    },
    {
     "name": "stdout",
     "output_type": "stream",
     "text": [
      "train loss 1.2148438207328778 train acc 0.55842\n"
     ]
    },
    {
     "data": {
      "application/vnd.jupyter.widget-view+json": {
       "model_id": "6d595b19e99c4a6d9a0f0b48dddf99b7",
       "version_major": 2,
       "version_minor": 0
      },
      "text/plain": [
       "  0%|          | 0/79 [00:00<?, ?it/s]"
      ]
     },
     "metadata": {},
     "output_type": "display_data"
    },
    {
     "name": "stdout",
     "output_type": "stream",
     "text": [
      "val loss 1.1795146895360342 val acc 0.5733\n"
     ]
    },
    {
     "data": {
      "application/vnd.jupyter.widget-view+json": {
       "model_id": "c351ecf8d3174983bd770097ac776c6d",
       "version_major": 2,
       "version_minor": 0
      },
      "text/plain": [
       "  0%|          | 0/391 [00:00<?, ?it/s]"
      ]
     },
     "metadata": {},
     "output_type": "display_data"
    },
    {
     "name": "stdout",
     "output_type": "stream",
     "text": [
      "train loss 1.1861897155147074 train acc 0.5704\n"
     ]
    },
    {
     "data": {
      "application/vnd.jupyter.widget-view+json": {
       "model_id": "1fe85779a80a460e8363df517ee807fd",
       "version_major": 2,
       "version_minor": 0
      },
      "text/plain": [
       "  0%|          | 0/79 [00:00<?, ?it/s]"
      ]
     },
     "metadata": {},
     "output_type": "display_data"
    },
    {
     "name": "stdout",
     "output_type": "stream",
     "text": [
      "val loss 1.1313207496570636 val acc 0.5954\n"
     ]
    },
    {
     "data": {
      "application/vnd.jupyter.widget-view+json": {
       "model_id": "3f4b51e4da354ce192ed62959a3e7739",
       "version_major": 2,
       "version_minor": 0
      },
      "text/plain": [
       "  0%|          | 0/391 [00:00<?, ?it/s]"
      ]
     },
     "metadata": {},
     "output_type": "display_data"
    },
    {
     "name": "stdout",
     "output_type": "stream",
     "text": [
      "train loss 1.159624283423509 train acc 0.583\n"
     ]
    },
    {
     "data": {
      "application/vnd.jupyter.widget-view+json": {
       "model_id": "e4340f5e74b943ef9bbb47b55757055a",
       "version_major": 2,
       "version_minor": 0
      },
      "text/plain": [
       "  0%|          | 0/79 [00:00<?, ?it/s]"
      ]
     },
     "metadata": {},
     "output_type": "display_data"
    },
    {
     "name": "stdout",
     "output_type": "stream",
     "text": [
      "val loss 1.1030517929716954 val acc 0.6076\n"
     ]
    },
    {
     "data": {
      "application/vnd.jupyter.widget-view+json": {
       "model_id": "6208e102c2bb4bacbc7ea55c5fc59485",
       "version_major": 2,
       "version_minor": 0
      },
      "text/plain": [
       "  0%|          | 0/391 [00:00<?, ?it/s]"
      ]
     },
     "metadata": {},
     "output_type": "display_data"
    },
    {
     "name": "stdout",
     "output_type": "stream",
     "text": [
      "train loss 1.1354908769392906 train acc 0.59044\n"
     ]
    },
    {
     "data": {
      "application/vnd.jupyter.widget-view+json": {
       "model_id": "c2e9dcf4cd8b4bd0abb89761e4ebce2a",
       "version_major": 2,
       "version_minor": 0
      },
      "text/plain": [
       "  0%|          | 0/79 [00:00<?, ?it/s]"
      ]
     },
     "metadata": {},
     "output_type": "display_data"
    },
    {
     "name": "stdout",
     "output_type": "stream",
     "text": [
      "val loss 1.0746412314946139 val acc 0.6175\n"
     ]
    },
    {
     "data": {
      "application/vnd.jupyter.widget-view+json": {
       "model_id": "d780d469f1e04379a3f4e94f96e76456",
       "version_major": 2,
       "version_minor": 0
      },
      "text/plain": [
       "  0%|          | 0/391 [00:00<?, ?it/s]"
      ]
     },
     "metadata": {},
     "output_type": "display_data"
    },
    {
     "name": "stdout",
     "output_type": "stream",
     "text": [
      "train loss 1.112960575486693 train acc 0.60148\n"
     ]
    },
    {
     "data": {
      "application/vnd.jupyter.widget-view+json": {
       "model_id": "0b590b01780544769db08845534de132",
       "version_major": 2,
       "version_minor": 0
      },
      "text/plain": [
       "  0%|          | 0/79 [00:00<?, ?it/s]"
      ]
     },
     "metadata": {},
     "output_type": "display_data"
    },
    {
     "name": "stdout",
     "output_type": "stream",
     "text": [
      "val loss 1.1012723596790168 val acc 0.608\n"
     ]
    },
    {
     "data": {
      "application/vnd.jupyter.widget-view+json": {
       "model_id": "749fc623202344169856c927e4e807c8",
       "version_major": 2,
       "version_minor": 0
      },
      "text/plain": [
       "  0%|          | 0/391 [00:00<?, ?it/s]"
      ]
     },
     "metadata": {},
     "output_type": "display_data"
    },
    {
     "name": "stdout",
     "output_type": "stream",
     "text": [
      "train loss 1.0994121385047504 train acc 0.60814\n"
     ]
    },
    {
     "data": {
      "application/vnd.jupyter.widget-view+json": {
       "model_id": "d8da81c3599f4bd8bef635580bd3da5d",
       "version_major": 2,
       "version_minor": 0
      },
      "text/plain": [
       "  0%|          | 0/79 [00:00<?, ?it/s]"
      ]
     },
     "metadata": {},
     "output_type": "display_data"
    },
    {
     "name": "stdout",
     "output_type": "stream",
     "text": [
      "val loss 1.0562991831876054 val acc 0.6205\n"
     ]
    },
    {
     "data": {
      "application/vnd.jupyter.widget-view+json": {
       "model_id": "631c154733c34374b265f58368cadad6",
       "version_major": 2,
       "version_minor": 0
      },
      "text/plain": [
       "  0%|          | 0/391 [00:00<?, ?it/s]"
      ]
     },
     "metadata": {},
     "output_type": "display_data"
    },
    {
     "name": "stdout",
     "output_type": "stream",
     "text": [
      "train loss 1.076718688163611 train acc 0.61322\n"
     ]
    },
    {
     "data": {
      "application/vnd.jupyter.widget-view+json": {
       "model_id": "ef10b70f722b47869ea6fbb81d460b93",
       "version_major": 2,
       "version_minor": 0
      },
      "text/plain": [
       "  0%|          | 0/79 [00:00<?, ?it/s]"
      ]
     },
     "metadata": {},
     "output_type": "display_data"
    },
    {
     "name": "stdout",
     "output_type": "stream",
     "text": [
      "val loss 1.037733117990856 val acc 0.6341\n"
     ]
    },
    {
     "data": {
      "application/vnd.jupyter.widget-view+json": {
       "model_id": "99ec21638cf441bf92d049504b525ec4",
       "version_major": 2,
       "version_minor": 0
      },
      "text/plain": [
       "  0%|          | 0/391 [00:00<?, ?it/s]"
      ]
     },
     "metadata": {},
     "output_type": "display_data"
    },
    {
     "name": "stdout",
     "output_type": "stream",
     "text": [
      "train loss 1.0589323772493835 train acc 0.62066\n"
     ]
    },
    {
     "data": {
      "application/vnd.jupyter.widget-view+json": {
       "model_id": "a173b759143c479ba5e0562087dca7b6",
       "version_major": 2,
       "version_minor": 0
      },
      "text/plain": [
       "  0%|          | 0/79 [00:00<?, ?it/s]"
      ]
     },
     "metadata": {},
     "output_type": "display_data"
    },
    {
     "name": "stdout",
     "output_type": "stream",
     "text": [
      "val loss 1.0303124845782412 val acc 0.6357\n"
     ]
    },
    {
     "data": {
      "application/vnd.jupyter.widget-view+json": {
       "model_id": "1c2db39b1e634ab3a6ccfe982a53e074",
       "version_major": 2,
       "version_minor": 0
      },
      "text/plain": [
       "  0%|          | 0/391 [00:00<?, ?it/s]"
      ]
     },
     "metadata": {},
     "output_type": "display_data"
    },
    {
     "name": "stdout",
     "output_type": "stream",
     "text": [
      "train loss 1.0388504557902245 train acc 0.62888\n"
     ]
    },
    {
     "data": {
      "application/vnd.jupyter.widget-view+json": {
       "model_id": "5d74366e8a954f8fbe8faec09830fa58",
       "version_major": 2,
       "version_minor": 0
      },
      "text/plain": [
       "  0%|          | 0/79 [00:00<?, ?it/s]"
      ]
     },
     "metadata": {},
     "output_type": "display_data"
    },
    {
     "name": "stdout",
     "output_type": "stream",
     "text": [
      "val loss 1.0042401333398456 val acc 0.643\n"
     ]
    },
    {
     "data": {
      "application/vnd.jupyter.widget-view+json": {
       "model_id": "64f011af06d44dabb8eae779f73b9b63",
       "version_major": 2,
       "version_minor": 0
      },
      "text/plain": [
       "  0%|          | 0/391 [00:00<?, ?it/s]"
      ]
     },
     "metadata": {},
     "output_type": "display_data"
    },
    {
     "name": "stdout",
     "output_type": "stream",
     "text": [
      "train loss 1.0202625913693166 train acc 0.63454\n"
     ]
    },
    {
     "data": {
      "application/vnd.jupyter.widget-view+json": {
       "model_id": "e9f107054e1241c6a6fadd495f7ef749",
       "version_major": 2,
       "version_minor": 0
      },
      "text/plain": [
       "  0%|          | 0/79 [00:00<?, ?it/s]"
      ]
     },
     "metadata": {},
     "output_type": "display_data"
    },
    {
     "name": "stdout",
     "output_type": "stream",
     "text": [
      "val loss 0.9938517280771763 val acc 0.6385\n"
     ]
    },
    {
     "data": {
      "application/vnd.jupyter.widget-view+json": {
       "model_id": "1b8d0f58914a436eaf97406586c2d0f7",
       "version_major": 2,
       "version_minor": 0
      },
      "text/plain": [
       "  0%|          | 0/391 [00:00<?, ?it/s]"
      ]
     },
     "metadata": {},
     "output_type": "display_data"
    },
    {
     "name": "stdout",
     "output_type": "stream",
     "text": [
      "train loss 1.0079851874610042 train acc 0.64012\n"
     ]
    },
    {
     "data": {
      "application/vnd.jupyter.widget-view+json": {
       "model_id": "de40c64eb7154bf09af28778b01b6450",
       "version_major": 2,
       "version_minor": 0
      },
      "text/plain": [
       "  0%|          | 0/79 [00:00<?, ?it/s]"
      ]
     },
     "metadata": {},
     "output_type": "display_data"
    },
    {
     "name": "stdout",
     "output_type": "stream",
     "text": [
      "val loss 0.9789777405654327 val acc 0.6493\n"
     ]
    },
    {
     "data": {
      "application/vnd.jupyter.widget-view+json": {
       "model_id": "b0e1844dad2244d59794963ac99049df",
       "version_major": 2,
       "version_minor": 0
      },
      "text/plain": [
       "  0%|          | 0/391 [00:00<?, ?it/s]"
      ]
     },
     "metadata": {},
     "output_type": "display_data"
    },
    {
     "name": "stdout",
     "output_type": "stream",
     "text": [
      "train loss 0.9976818547834216 train acc 0.64238\n"
     ]
    },
    {
     "data": {
      "application/vnd.jupyter.widget-view+json": {
       "model_id": "203e835f794e4b8eb0d2db188af98da6",
       "version_major": 2,
       "version_minor": 0
      },
      "text/plain": [
       "  0%|          | 0/79 [00:00<?, ?it/s]"
      ]
     },
     "metadata": {},
     "output_type": "display_data"
    },
    {
     "name": "stdout",
     "output_type": "stream",
     "text": [
      "val loss 0.9821992116638377 val acc 0.648\n"
     ]
    },
    {
     "data": {
      "application/vnd.jupyter.widget-view+json": {
       "model_id": "a01e85135681440a9a8705cffe413f99",
       "version_major": 2,
       "version_minor": 0
      },
      "text/plain": [
       "  0%|          | 0/391 [00:00<?, ?it/s]"
      ]
     },
     "metadata": {},
     "output_type": "display_data"
    },
    {
     "name": "stdout",
     "output_type": "stream",
     "text": [
      "train loss 0.9805187691203163 train acc 0.65192\n"
     ]
    },
    {
     "data": {
      "application/vnd.jupyter.widget-view+json": {
       "model_id": "8b759106d7cb4be08f8d8ce89d44cb54",
       "version_major": 2,
       "version_minor": 0
      },
      "text/plain": [
       "  0%|          | 0/79 [00:00<?, ?it/s]"
      ]
     },
     "metadata": {},
     "output_type": "display_data"
    }
   ],
   "source": [
    "# Let's train\n",
    "# Usually for small dataset like this you would want Convolutional network, so accuracy here would not be great\n",
    "\n",
    "model = Model(4, 32, 64, 4, 8, 10)\n",
    "model.cuda()\n",
    "opt = torch.optim.AdamW(model.parameters(), 3e-4, weight_decay=1e-4)\n",
    "\n",
    "def train_epoch():\n",
    "    loss_sum = 0\n",
    "    loss_cc = 0\n",
    "    acc_sum = 0\n",
    "    acc_cc = 0\n",
    "    for input, targets in tqdm.tqdm(train_loader):\n",
    "        out = model(input.cuda())\n",
    "        loss = nn.CrossEntropyLoss()(out, targets.cuda())\n",
    "        loss.backward()\n",
    "        opt.step()\n",
    "        opt.zero_grad()\n",
    "        \n",
    "        loss_sum += loss.item()\n",
    "        loss_cc += 1\n",
    "        \n",
    "        acc_sum += (out.argmax(dim=-1) == targets.cuda()).sum().item()\n",
    "        acc_cc += targets.numel()\n",
    "        \n",
    "    print(\"train loss\", loss_sum / loss_cc, \"train acc\", acc_sum / acc_cc)\n",
    "    \n",
    "@torch.no_grad()\n",
    "def val_epoch():\n",
    "    loss_sum = 0\n",
    "    loss_cc = 0\n",
    "    acc_sum = 0\n",
    "    acc_cc = 0\n",
    "    for input, targets in tqdm.tqdm(val_loader):\n",
    "        out = model(input.cuda())\n",
    "        loss = nn.CrossEntropyLoss()(out, targets.cuda())\n",
    "        \n",
    "        loss_sum += loss.item()\n",
    "        loss_cc += 1\n",
    "        \n",
    "        acc_sum += (out.argmax(dim=-1) == targets.cuda()).sum().item()\n",
    "        acc_cc += targets.numel()\n",
    "        \n",
    "    print(\"val loss\", loss_sum / loss_cc, \"val acc\", acc_sum / acc_cc)\n",
    "    \n",
    "for epoch in range(50):\n",
    "    train_epoch()\n",
    "    val_epoch()"
   ]
  },
  {
   "cell_type": "code",
   "execution_count": null,
   "id": "a0250148",
   "metadata": {},
   "outputs": [],
   "source": []
  }
 ],
 "metadata": {
  "kernelspec": {
   "display_name": "Python 3 (ipykernel)",
   "language": "python",
   "name": "python3"
  },
  "language_info": {
   "codemirror_mode": {
    "name": "ipython",
    "version": 3
   },
   "file_extension": ".py",
   "mimetype": "text/x-python",
   "name": "python",
   "nbconvert_exporter": "python",
   "pygments_lexer": "ipython3",
   "version": "3.11.11"
  }
 },
 "nbformat": 4,
 "nbformat_minor": 5
}
