{
 "cells": [
  {
   "cell_type": "code",
   "execution_count": 3,
   "id": "5dd1b8a1",
   "metadata": {},
   "outputs": [],
   "source": [
    "import torch\n",
    "import torch.nn as nn\n",
    "import torch.nn.functional as F\n",
    "import torchvision\n",
    "\n",
    "import matplotlib.pyplot as plt"
   ]
  },
  {
   "cell_type": "code",
   "execution_count": 4,
   "id": "56d31097",
   "metadata": {},
   "outputs": [
    {
     "name": "stdout",
     "output_type": "stream",
     "text": [
      "Downloading http://yann.lecun.com/exdb/mnist/train-images-idx3-ubyte.gz\n",
      "Failed to download (trying next):\n",
      "HTTP Error 404: Not Found\n",
      "\n",
      "Downloading https://ossci-datasets.s3.amazonaws.com/mnist/train-images-idx3-ubyte.gz\n",
      "Downloading https://ossci-datasets.s3.amazonaws.com/mnist/train-images-idx3-ubyte.gz to files/MNIST/raw/train-images-idx3-ubyte.gz\n"
     ]
    },
    {
     "name": "stderr",
     "output_type": "stream",
     "text": [
      "100%|███████████████████████████████████████████████████████████████████████████████████████████████████████████████████████████████████████████████████| 9.91M/9.91M [00:01<00:00, 5.82MB/s]\n"
     ]
    },
    {
     "name": "stdout",
     "output_type": "stream",
     "text": [
      "Extracting files/MNIST/raw/train-images-idx3-ubyte.gz to files/MNIST/raw\n",
      "\n",
      "Downloading http://yann.lecun.com/exdb/mnist/train-labels-idx1-ubyte.gz\n",
      "Failed to download (trying next):\n",
      "HTTP Error 404: Not Found\n",
      "\n",
      "Downloading https://ossci-datasets.s3.amazonaws.com/mnist/train-labels-idx1-ubyte.gz\n",
      "Downloading https://ossci-datasets.s3.amazonaws.com/mnist/train-labels-idx1-ubyte.gz to files/MNIST/raw/train-labels-idx1-ubyte.gz\n"
     ]
    },
    {
     "name": "stderr",
     "output_type": "stream",
     "text": [
      "100%|████████████████████████████████████████████████████████████████████████████████████████████████████████████████████████████████████████████████████| 28.9k/28.9k [00:00<00:00, 244kB/s]\n"
     ]
    },
    {
     "name": "stdout",
     "output_type": "stream",
     "text": [
      "Extracting files/MNIST/raw/train-labels-idx1-ubyte.gz to files/MNIST/raw\n",
      "\n",
      "Downloading http://yann.lecun.com/exdb/mnist/t10k-images-idx3-ubyte.gz\n",
      "Failed to download (trying next):\n",
      "HTTP Error 404: Not Found\n",
      "\n",
      "Downloading https://ossci-datasets.s3.amazonaws.com/mnist/t10k-images-idx3-ubyte.gz\n",
      "Downloading https://ossci-datasets.s3.amazonaws.com/mnist/t10k-images-idx3-ubyte.gz to files/MNIST/raw/t10k-images-idx3-ubyte.gz\n"
     ]
    },
    {
     "name": "stderr",
     "output_type": "stream",
     "text": [
      "100%|███████████████████████████████████████████████████████████████████████████████████████████████████████████████████████████████████████████████████| 1.65M/1.65M [00:01<00:00, 1.03MB/s]\n"
     ]
    },
    {
     "name": "stdout",
     "output_type": "stream",
     "text": [
      "Extracting files/MNIST/raw/t10k-images-idx3-ubyte.gz to files/MNIST/raw\n",
      "\n",
      "Downloading http://yann.lecun.com/exdb/mnist/t10k-labels-idx1-ubyte.gz\n",
      "Failed to download (trying next):\n",
      "HTTP Error 404: Not Found\n",
      "\n",
      "Downloading https://ossci-datasets.s3.amazonaws.com/mnist/t10k-labels-idx1-ubyte.gz\n",
      "Downloading https://ossci-datasets.s3.amazonaws.com/mnist/t10k-labels-idx1-ubyte.gz to files/MNIST/raw/t10k-labels-idx1-ubyte.gz\n"
     ]
    },
    {
     "name": "stderr",
     "output_type": "stream",
     "text": [
      "100%|███████████████████████████████████████████████████████████████████████████████████████████████████████████████████████████████████████████████████| 4.54k/4.54k [00:00<00:00, 4.12MB/s]"
     ]
    },
    {
     "name": "stdout",
     "output_type": "stream",
     "text": [
      "Extracting files/MNIST/raw/t10k-labels-idx1-ubyte.gz to files/MNIST/raw\n",
      "\n"
     ]
    },
    {
     "name": "stderr",
     "output_type": "stream",
     "text": [
      "\n"
     ]
    }
   ],
   "source": [
    "# Get some dataset\n",
    "\n",
    "batch_size_train = 256\n",
    "batch_size_test = 1024\n",
    "\n",
    "train_loader = torch.utils.data.DataLoader(\n",
    "  torchvision.datasets.MNIST('files/', train=True, download=True,\n",
    "                             transform=torchvision.transforms.Compose([\n",
    "                               torchvision.transforms.ToTensor(),\n",
    "                               torchvision.transforms.Normalize(\n",
    "                                 (0.1307,), (0.3081,)),\n",
    "                               torchvision.transforms.Lambda(torch.flatten)\n",
    "                             ])),\n",
    "  batch_size=batch_size_train, shuffle=True)\n",
    "\n",
    "test_loader = torch.utils.data.DataLoader(\n",
    "  torchvision.datasets.MNIST('files/', train=False, download=True,\n",
    "                             transform=torchvision.transforms.Compose([\n",
    "                               torchvision.transforms.ToTensor(),\n",
    "                               torchvision.transforms.Normalize(\n",
    "                                 (0.1307,), (0.3081,)),\n",
    "                               torchvision.transforms.Lambda(torch.flatten)\n",
    "                             ])),\n",
    "  batch_size=batch_size_test, shuffle=True)\n"
   ]
  },
  {
   "cell_type": "code",
   "execution_count": 8,
   "id": "188feae2",
   "metadata": {},
   "outputs": [
    {
     "name": "stdout",
     "output_type": "stream",
     "text": [
      "torch.Size([256, 784]) torch.Size([256])\n",
      "tensor([2, 0, 1, 2, 3, 7, 6, 2, 5, 0, 0, 9, 1, 7, 1, 8, 5, 4, 0, 1])\n"
     ]
    }
   ],
   "source": [
    "# Inspect what we are loading\n",
    "for inputs, targets in train_loader:\n",
    "    print(inputs.shape, targets.shape)\n",
    "    print(targets[:20])\n",
    "    break\n",
    "    \n",
    "# We have 256 images of size 28*28 flattened to a vector of size 784 and 256 targets (from 0 to 9)"
   ]
  },
  {
   "cell_type": "code",
   "execution_count": 11,
   "id": "3080f299",
   "metadata": {},
   "outputs": [],
   "source": [
    "# Let's train a simple neural network\n",
    "# We won't bother with evaluation for now\n",
    "\n",
    "model = nn.Sequential(\n",
    "    nn.Linear(784, 256),\n",
    "    nn.SiLU(),\n",
    "    nn.Linear(256, 10)\n",
    ")\n",
    "\n",
    "# This loss actually contains softmax inside\n",
    "loss_fn = nn.CrossEntropyLoss()\n",
    "\n",
    "optimizer = torch.optim.Adam(model.parameters(), lr=1e-4)\n",
    "\n",
    "# Typically we want to also decay the learning rate during training\n",
    "#scheduler = ..."
   ]
  },
  {
   "cell_type": "code",
   "execution_count": 13,
   "id": "fec638bd",
   "metadata": {},
   "outputs": [
    {
     "name": "stdout",
     "output_type": "stream",
     "text": [
      "2.3062589168548584\n",
      "2.2896127700805664\n",
      "2.248093843460083\n",
      "2.2312862873077393\n",
      "2.2326042652130127\n",
      "2.204360008239746\n",
      "2.1466307640075684\n",
      "2.1452786922454834\n",
      "2.132887363433838\n",
      "2.076507568359375\n",
      "2.0842461585998535\n",
      "2.0514132976531982\n",
      "2.0086188316345215\n",
      "2.014268398284912\n",
      "1.9756686687469482\n",
      "1.9668374061584473\n",
      "1.9281772375106812\n",
      "1.9159483909606934\n",
      "1.8484389781951904\n",
      "1.8676234483718872\n",
      "1.8273248672485352\n",
      "1.8034087419509888\n",
      "1.7859783172607422\n",
      "1.7495163679122925\n",
      "1.7562289237976074\n",
      "1.7370182275772095\n",
      "1.674819827079773\n",
      "1.6658105850219727\n",
      "1.6580911874771118\n",
      "1.6517258882522583\n",
      "1.6181461811065674\n",
      "1.6050772666931152\n",
      "1.546630859375\n",
      "1.5383567810058594\n",
      "1.5484799146652222\n",
      "1.4782394170761108\n",
      "1.4338698387145996\n",
      "1.4172595739364624\n",
      "1.4064375162124634\n",
      "1.4216359853744507\n",
      "1.336658000946045\n",
      "1.3788414001464844\n",
      "1.2903183698654175\n",
      "1.3266639709472656\n",
      "1.2606405019760132\n",
      "1.2492209672927856\n",
      "1.1988437175750732\n",
      "1.213112711906433\n",
      "1.3070881366729736\n",
      "1.148504614830017\n",
      "1.1649038791656494\n",
      "1.1510217189788818\n",
      "1.1239436864852905\n",
      "1.105041742324829\n",
      "1.060959815979004\n",
      "1.169948697090149\n",
      "1.079506516456604\n",
      "1.0770163536071777\n",
      "1.0455416440963745\n",
      "1.010448932647705\n",
      "0.9985460042953491\n",
      "0.9412818551063538\n",
      "0.976748526096344\n",
      "0.9497975707054138\n",
      "0.8728201985359192\n",
      "0.8891448974609375\n",
      "0.8850756883621216\n",
      "0.8746424317359924\n",
      "0.8747630715370178\n",
      "0.9273244738578796\n",
      "0.8518496751785278\n",
      "0.817931056022644\n",
      "0.820058286190033\n",
      "0.8868414759635925\n",
      "0.8017542362213135\n",
      "0.8521081805229187\n",
      "0.7582480907440186\n",
      "0.8241886496543884\n",
      "0.8427066206932068\n",
      "0.7451122999191284\n",
      "0.7746889591217041\n",
      "0.721466600894928\n",
      "0.7159596085548401\n",
      "0.7301203608512878\n",
      "0.7061012387275696\n",
      "0.7706254720687866\n",
      "0.7288675904273987\n",
      "0.7457544803619385\n",
      "0.6499249935150146\n",
      "0.7362278699874878\n",
      "0.7096735239028931\n",
      "0.6131149530410767\n",
      "0.6418558955192566\n",
      "0.6640916466712952\n",
      "0.6621704697608948\n",
      "0.5456411242485046\n",
      "0.6755713820457458\n",
      "0.649664044380188\n",
      "0.641202449798584\n",
      "0.6226204633712769\n",
      "0.6403800845146179\n",
      "0.6105800271034241\n",
      "0.6660218238830566\n",
      "0.5684544444084167\n",
      "0.556792140007019\n",
      "0.6009367108345032\n",
      "0.6834014654159546\n",
      "0.6286230683326721\n",
      "0.6586800217628479\n",
      "0.5412737131118774\n",
      "0.5579515695571899\n",
      "0.6312201619148254\n",
      "0.6124441027641296\n",
      "0.5791463851928711\n",
      "0.5813026428222656\n",
      "0.6305493712425232\n",
      "0.5726836919784546\n",
      "0.5322898626327515\n",
      "0.5362362265586853\n",
      "0.5930401682853699\n",
      "0.4804816246032715\n",
      "0.5384988784790039\n",
      "0.49256595969200134\n",
      "0.5150104761123657\n",
      "0.48548319935798645\n",
      "0.5649772882461548\n",
      "0.5690535306930542\n",
      "0.5539857149124146\n",
      "0.5735419988632202\n",
      "0.579039990901947\n",
      "0.48194625973701477\n",
      "0.49897781014442444\n",
      "0.47423481941223145\n",
      "0.5123037695884705\n",
      "0.5303391218185425\n",
      "0.516628086566925\n",
      "0.5380451679229736\n",
      "0.4940502643585205\n",
      "0.5388374328613281\n",
      "0.537135124206543\n",
      "0.5532031059265137\n",
      "0.5940192937850952\n",
      "0.5260145664215088\n",
      "0.5047156810760498\n",
      "0.4976203441619873\n",
      "0.4939465820789337\n",
      "0.5255954265594482\n",
      "0.4751793444156647\n",
      "0.545685887336731\n",
      "0.4462108612060547\n",
      "0.47297683358192444\n",
      "0.5754980444908142\n",
      "0.4569717049598694\n",
      "0.5148284435272217\n",
      "0.45368263125419617\n",
      "0.4026467800140381\n",
      "0.44614893198013306\n",
      "0.4617678225040436\n",
      "0.47655215859413147\n",
      "0.5042462944984436\n",
      "0.5628958940505981\n",
      "0.40146371722221375\n",
      "0.4865197539329529\n",
      "0.47507721185684204\n",
      "0.4147595763206482\n",
      "0.46115005016326904\n",
      "0.4613156020641327\n",
      "0.4156777858734131\n",
      "0.4192246198654175\n",
      "0.41811665892601013\n",
      "0.4401847720146179\n",
      "0.42738455533981323\n",
      "0.4709945619106293\n",
      "0.43788671493530273\n",
      "0.4589661657810211\n",
      "0.42484694719314575\n",
      "0.47721293568611145\n",
      "0.42073214054107666\n",
      "0.47632524371147156\n",
      "0.4516312777996063\n",
      "0.4338856637477875\n",
      "0.42892736196517944\n",
      "0.5094190835952759\n",
      "0.38996127247810364\n",
      "0.36483001708984375\n",
      "0.4330834448337555\n",
      "0.4681175649166107\n",
      "0.4695262014865875\n",
      "0.5272720456123352\n",
      "0.415420264005661\n",
      "0.34623998403549194\n",
      "0.34167784452438354\n",
      "0.49474024772644043\n",
      "0.4272787272930145\n",
      "0.39141249656677246\n",
      "0.43319621682167053\n",
      "0.5137816667556763\n",
      "0.37441277503967285\n",
      "0.45537665486335754\n",
      "0.3743780553340912\n",
      "0.4235075116157532\n",
      "0.3528063893318176\n",
      "0.4012128710746765\n",
      "0.40851545333862305\n",
      "0.30877941846847534\n",
      "0.4016026258468628\n",
      "0.3874542713165283\n",
      "0.42115524411201477\n",
      "0.38502857089042664\n",
      "0.4197666347026825\n",
      "0.32174307107925415\n",
      "0.40582549571990967\n",
      "0.31816670298576355\n",
      "0.3968777060508728\n",
      "0.47644081711769104\n",
      "0.4237053394317627\n",
      "0.47854477167129517\n",
      "0.34499481320381165\n",
      "0.48510244488716125\n",
      "0.41563722491264343\n",
      "0.30954378843307495\n",
      "0.3836483955383301\n",
      "0.4443700909614563\n",
      "0.3411104381084442\n",
      "0.37067580223083496\n",
      "0.406870037317276\n",
      "0.3375602066516876\n",
      "0.3897092640399933\n",
      "0.45835161209106445\n",
      "0.4659750759601593\n",
      "0.3533053398132324\n",
      "0.37087637186050415\n",
      "0.37298011779785156\n",
      "0.40626224875450134\n",
      "0.3666400909423828\n"
     ]
    }
   ],
   "source": [
    "# Let's run one epoch\n",
    "for inputs, targets in train_loader:\n",
    "    outputs = model(inputs)\n",
    "    loss = loss_fn(outputs, targets)\n",
    "    print(loss.item())\n",
    "    \n",
    "    loss.backward()\n",
    "    optimizer.step()\n",
    "    optimizer.zero_grad()\n",
    "    #scheduler.step()\n",
    "    \n",
    "# Loss nicely decreases"
   ]
  },
  {
   "cell_type": "code",
   "execution_count": 15,
   "id": "912bf6ff",
   "metadata": {},
   "outputs": [
    {
     "name": "stdout",
     "output_type": "stream",
     "text": [
      "tensor([[-4.0210, -0.4884,  0.3830, -1.5267,  4.8588, -1.2310, -0.8766,  0.4993,\n",
      "          0.4864,  2.1030]], grad_fn=<AddmmBackward0>)\n",
      "tensor([4])\n"
     ]
    }
   ],
   "source": [
    "# What is model output?\n",
    "for inputs, targets in test_loader:\n",
    "    print(model(inputs[:1]))\n",
    "    print(targets[:1])\n",
    "    break\n",
    "    \n",
    "# Outputs are not probabilities, but inputs to softmax. But highest number is still class with highest probability"
   ]
  },
  {
   "cell_type": "markdown",
   "id": "94bb64ea",
   "metadata": {},
   "source": [
    "## Neural networks building blocks\n",
    "\n",
    "Here we go over basic building blocks of typical neural networks.\n",
    "\n",
    "I recommend checking Pytorch documentation, e.g. (https://pytorch.org/docs/stable/generated/torch.nn.CrossEntropyLoss.html#torch.nn.CrossEntropyLoss, https://pytorch.org/docs/stable/generated/torch.nn.Linear.html). \n",
    "\n",
    "Most important things to understand are:\n",
    "\n",
    "* shapes of input\n",
    "* shapes of parameters\n",
    "* output shape"
   ]
  },
  {
   "cell_type": "code",
   "execution_count": 16,
   "id": "0fe5b282",
   "metadata": {},
   "outputs": [
    {
     "data": {
      "text/plain": [
       "Linear(in_features=64, out_features=32, bias=False)"
      ]
     },
     "execution_count": 16,
     "metadata": {},
     "output_type": "execute_result"
    }
   ],
   "source": [
    "# Let's start with puny linear layer\n",
    "\n",
    "n_inputs = 64\n",
    "n_outputs = 32\n",
    "\n",
    "# I don't like bias. It's coarse and rough and irritating and it gets everywhere.\n",
    "# Also, forgetting about it leads to bugs.\n",
    "layer = nn.Linear(n_inputs, n_outputs, bias=False)\n",
    "layer"
   ]
  },
  {
   "cell_type": "code",
   "execution_count": 17,
   "id": "c5b91bdd",
   "metadata": {},
   "outputs": [
    {
     "data": {
      "text/plain": [
       "torch.Size([32, 64])"
      ]
     },
     "execution_count": 17,
     "metadata": {},
     "output_type": "execute_result"
    }
   ],
   "source": [
    "# For some reason, the shape is n_output x n_input\n",
    "layer.weight.shape"
   ]
  },
  {
   "cell_type": "code",
   "execution_count": 20,
   "id": "05f5e841",
   "metadata": {},
   "outputs": [
    {
     "data": {
      "text/plain": [
       "torch.Size([32])"
      ]
     },
     "execution_count": 20,
     "metadata": {},
     "output_type": "execute_result"
    }
   ],
   "source": [
    "# All of this works\n",
    "\n",
    "layer(torch.rand(64)).shape"
   ]
  },
  {
   "cell_type": "code",
   "execution_count": 21,
   "id": "385d42af",
   "metadata": {},
   "outputs": [
    {
     "data": {
      "text/plain": [
       "torch.Size([5, 32])"
      ]
     },
     "execution_count": 21,
     "metadata": {},
     "output_type": "execute_result"
    }
   ],
   "source": [
    "layer(torch.rand(5, 64)).shape"
   ]
  },
  {
   "cell_type": "code",
   "execution_count": 22,
   "id": "4372feb5",
   "metadata": {},
   "outputs": [
    {
     "data": {
      "text/plain": [
       "torch.Size([1, 2, 3, 4, 5, 32])"
      ]
     },
     "execution_count": 22,
     "metadata": {},
     "output_type": "execute_result"
    }
   ],
   "source": [
    "layer(torch.rand(1,2,3,4,5,64)).shape"
   ]
  },
  {
   "cell_type": "markdown",
   "id": "6b81d81b",
   "metadata": {},
   "source": [
    "# Nonlinearities"
   ]
  },
  {
   "cell_type": "code",
   "execution_count": 24,
   "id": "923708d5",
   "metadata": {},
   "outputs": [],
   "source": [
    "# Doing this is in most cases not a great idea:\n",
    "model = nn.Sequential(\n",
    "    nn.Linear(200, 300),\n",
    "    nn.Linear(300, 400)\n",
    ")\n",
    "\n",
    "# Because what model computes is (xA)B\n",
    "# Which is same as x(AB) and if we say AB = C, then we can just have\n",
    "model = nn.Linear(200, 400)\n",
    "\n",
    "# Also former formulation is not even convex (imagine scalars and what happens when both weight are zero)"
   ]
  },
  {
   "cell_type": "code",
   "execution_count": 25,
   "id": "6055797b",
   "metadata": {},
   "outputs": [],
   "source": [
    "# So we insert nonlinear functions in between:\n",
    "model = nn.Sequential(\n",
    "    nn.Linear(200, 300),\n",
    "    nn.SiLU(),\n",
    "    nn.Linear(300, 400)\n",
    ")"
   ]
  },
  {
   "cell_type": "code",
   "execution_count": 32,
   "id": "9437c7ae",
   "metadata": {},
   "outputs": [
    {
     "data": {
      "text/plain": [
       "<matplotlib.legend.Legend at 0x7b27fd76a8d0>"
      ]
     },
     "execution_count": 32,
     "metadata": {},
     "output_type": "execute_result"
    },
    {
     "data": {
      "image/png": "[encoded data removed]",
      "text/plain": [
       "<Figure size 640x480 with 1 Axes>"
      ]
     },
     "metadata": {},
     "output_type": "display_data"
    }
   ],
   "source": [
    "# What are these functions?\n",
    "\n",
    "for f in [nn.ReLU(), nn.SiLU(), nn.ReLU(), nn.GELU(), nn.Tanh()]:\n",
    "    X = torch.linspace(-5, 5, 1001)\n",
    "    plt.plot(X, f(X), label=str(f))\n",
    "    \n",
    "plt.grid()\n",
    "plt.legend()"
   ]
  },
  {
   "cell_type": "markdown",
   "id": "7f0eb1ae",
   "metadata": {},
   "source": [
    "These days we mostly use Relu, silu, gelu. Tanh is not used, due to vanishing gradient at the ends\n",
    "(happens when your weights get too large).\n",
    "\n",
    "Why is gelu/silu slighly better than relu?\n",
    "\n",
    "\"We offer no explanation as to why these architectures seem to work; we attribute their success, as all else, to divine benevolence\" (https://arxiv.org/pdf/2002.05202)"
   ]
  },
  {
   "cell_type": "code",
   "execution_count": null,
   "id": "e165c120",
   "metadata": {},
   "outputs": [],
   "source": [
    "# So the simple multi-layer perceptron is just multiple linear layers with nonlinear functions in between, e.g.:\n",
    "\n",
    "model = nn.Sequential(\n",
    "    nn.Linear(784, 256),\n",
    "    nn.SiLU(),\n",
    "    nn.Linear(256, 256),\n",
    "    nn.SiLU(),\n",
    "    nn.Linear(256, 256),\n",
    "    nn.SiLU(),\n",
    "    nn.Linear(256, 10),\n",
    ")\n",
    "\n",
    "# Trained with loop we seen before"
   ]
  },
  {
   "cell_type": "markdown",
   "id": "34f95ba7",
   "metadata": {},
   "source": [
    "## Bringing structure\n",
    "\n",
    "Usually the input is not one vector, but an image or some sequence (e.g. words)."
   ]
  },
  {
   "cell_type": "code",
   "execution_count": 34,
   "id": "663e6fc8",
   "metadata": {},
   "outputs": [
    {
     "name": "stdout",
     "output_type": "stream",
     "text": [
      "Downloading https://www.cs.toronto.edu/~kriz/cifar-10-python.tar.gz to ./data/cifar-10-python.tar.gz\n"
     ]
    },
    {
     "name": "stderr",
     "output_type": "stream",
     "text": [
      "100%|█████████████████████████████████████████████████████████████████████████████████████████████████████████████████████████████████████████████████████| 170M/170M [01:40<00:00, 1.70MB/s]\n"
     ]
    },
    {
     "name": "stdout",
     "output_type": "stream",
     "text": [
      "Extracting ./data/cifar-10-python.tar.gz to ./data\n",
      "torch.Size([16, 3, 32, 32]) torch.Size([16])\n",
      "tensor([6, 2, 7, 7, 7, 5, 1, 8, 5, 4, 7, 9, 5, 0, 8, 6])\n"
     ]
    }
   ],
   "source": [
    "# Let's load some other image dataset\n",
    "\n",
    "normalize = torchvision.transforms.Normalize(mean=[0.485, 0.456, 0.406],\n",
    "                                 std=[0.229, 0.224, 0.225])\n",
    "\n",
    "train_loader = torch.utils.data.DataLoader(\n",
    "    torchvision.datasets.CIFAR10(root='./data', train=True, transform=torchvision.transforms.Compose([\n",
    "        torchvision.transforms.RandomHorizontalFlip(),\n",
    "        torchvision.transforms.RandomCrop(32, 4),\n",
    "        torchvision.transforms.ToTensor(),\n",
    "        normalize,\n",
    "    ]), download=True),\n",
    "    batch_size=16, shuffle=True)\n",
    "\n",
    "for input, target in train_loader:\n",
    "    print(input.shape, target.shape)\n",
    "    print(target)\n",
    "    break"
   ]
  },
  {
   "cell_type": "code",
   "execution_count": 35,
   "id": "2acc6b20",
   "metadata": {},
   "outputs": [],
   "source": [
    "# Input shape is:\n",
    "# (Batch, channels, height, width)\n",
    "# Do not ask why are channels in the middle"
   ]
  },
  {
   "cell_type": "code",
   "execution_count": 56,
   "id": "85b3d82e",
   "metadata": {},
   "outputs": [
    {
     "data": {
      "text/plain": [
       "torch.Size([16, 128, 28, 28])"
      ]
     },
     "execution_count": 56,
     "metadata": {},
     "output_type": "execute_result"
    }
   ],
   "source": [
    "conv_layer = nn.Conv2d(3,128,5, bias=False)\n",
    "conv_layer(input).shape\n",
    "\n",
    "# We got 128 output channels and input is shrink by four (this is prevented by using padding)"
   ]
  },
  {
   "cell_type": "code",
   "execution_count": 57,
   "id": "16075faf",
   "metadata": {},
   "outputs": [
    {
     "data": {
      "text/plain": [
       "torch.Size([16, 128, 32, 32])"
      ]
     },
     "execution_count": 57,
     "metadata": {},
     "output_type": "execute_result"
    }
   ],
   "source": [
    "conv_layer_with_pad = nn.Conv2d(3,128,5,padding=2)\n",
    "conv_layer_with_pad(input).shape"
   ]
  },
  {
   "cell_type": "code",
   "execution_count": 42,
   "id": "ce80f7d6",
   "metadata": {},
   "outputs": [],
   "source": [
    "# For more, check out https://fleuret.org/dlc/materials/dlc-slides-4-4-convolutions.pdf"
   ]
  },
  {
   "cell_type": "markdown",
   "id": "951df818",
   "metadata": {},
   "source": [
    "## 1x1 convolution and im2col\n",
    "\n",
    "One could ask is 1x1 convolution useful. \n",
    "Just look at input, output and weight shapes and it should be obvious."
   ]
  },
  {
   "cell_type": "code",
   "execution_count": 47,
   "id": "1a59bdd8",
   "metadata": {},
   "outputs": [
    {
     "data": {
      "text/plain": [
       "torch.Size([5, 32, 10, 10])"
      ]
     },
     "execution_count": 47,
     "metadata": {},
     "output_type": "execute_result"
    }
   ],
   "source": [
    "conv1x1 = nn.Conv2d(16, 32, 1, bias=False)\n",
    "\n",
    "conv1x1(torch.randn(5,16,10,10)).shape\n",
    "\n",
    "# It just projects channels to some other represenation\n",
    "# Each image piece of input size 16 gets changed to size 32"
   ]
  },
  {
   "cell_type": "code",
   "execution_count": 49,
   "id": "c70dffea",
   "metadata": {},
   "outputs": [
    {
     "data": {
      "text/plain": [
       "tensor([[[[ 0.0000e+00,  0.0000e+00,  0.0000e+00,  ...,  0.0000e+00,\n",
       "            0.0000e+00,  0.0000e+00],\n",
       "          [ 0.0000e+00,  0.0000e+00,  0.0000e+00,  ...,  0.0000e+00,\n",
       "            0.0000e+00,  0.0000e+00],\n",
       "          [ 0.0000e+00,  0.0000e+00,  0.0000e+00,  ...,  0.0000e+00,\n",
       "            0.0000e+00,  0.0000e+00],\n",
       "          ...,\n",
       "          [ 0.0000e+00,  0.0000e+00,  0.0000e+00,  ...,  0.0000e+00,\n",
       "            0.0000e+00,  0.0000e+00],\n",
       "          [ 0.0000e+00,  0.0000e+00,  0.0000e+00,  ...,  0.0000e+00,\n",
       "            0.0000e+00,  0.0000e+00],\n",
       "          [ 0.0000e+00,  0.0000e+00,  0.0000e+00,  ...,  0.0000e+00,\n",
       "            2.9802e-08, -2.9802e-08]],\n",
       "\n",
       "         [[ 0.0000e+00,  0.0000e+00,  0.0000e+00,  ...,  0.0000e+00,\n",
       "            0.0000e+00,  0.0000e+00],\n",
       "          [ 0.0000e+00,  0.0000e+00,  0.0000e+00,  ...,  0.0000e+00,\n",
       "            0.0000e+00,  0.0000e+00],\n",
       "          [ 0.0000e+00,  0.0000e+00,  0.0000e+00,  ...,  0.0000e+00,\n",
       "            0.0000e+00,  0.0000e+00],\n",
       "          ...,\n",
       "          [ 0.0000e+00,  0.0000e+00,  0.0000e+00,  ...,  0.0000e+00,\n",
       "            0.0000e+00,  0.0000e+00],\n",
       "          [ 0.0000e+00,  0.0000e+00,  0.0000e+00,  ...,  0.0000e+00,\n",
       "            0.0000e+00,  0.0000e+00],\n",
       "          [ 0.0000e+00,  0.0000e+00,  0.0000e+00,  ...,  0.0000e+00,\n",
       "            0.0000e+00, -2.9802e-08]],\n",
       "\n",
       "         [[ 0.0000e+00,  0.0000e+00,  0.0000e+00,  ...,  0.0000e+00,\n",
       "            0.0000e+00,  0.0000e+00],\n",
       "          [ 0.0000e+00,  0.0000e+00,  0.0000e+00,  ...,  0.0000e+00,\n",
       "            0.0000e+00,  0.0000e+00],\n",
       "          [ 0.0000e+00,  0.0000e+00,  0.0000e+00,  ...,  0.0000e+00,\n",
       "            0.0000e+00,  0.0000e+00],\n",
       "          ...,\n",
       "          [ 0.0000e+00,  0.0000e+00,  0.0000e+00,  ...,  0.0000e+00,\n",
       "            0.0000e+00,  0.0000e+00],\n",
       "          [ 0.0000e+00,  0.0000e+00,  0.0000e+00,  ...,  0.0000e+00,\n",
       "            0.0000e+00,  0.0000e+00],\n",
       "          [ 0.0000e+00,  0.0000e+00,  0.0000e+00,  ...,  5.9605e-08,\n",
       "            0.0000e+00,  5.9605e-08]],\n",
       "\n",
       "         ...,\n",
       "\n",
       "         [[ 0.0000e+00,  0.0000e+00,  0.0000e+00,  ...,  0.0000e+00,\n",
       "            0.0000e+00,  0.0000e+00],\n",
       "          [ 0.0000e+00,  0.0000e+00,  0.0000e+00,  ...,  0.0000e+00,\n",
       "            0.0000e+00,  0.0000e+00],\n",
       "          [ 0.0000e+00,  0.0000e+00,  0.0000e+00,  ...,  0.0000e+00,\n",
       "            0.0000e+00,  0.0000e+00],\n",
       "          ...,\n",
       "          [ 0.0000e+00,  0.0000e+00,  0.0000e+00,  ...,  0.0000e+00,\n",
       "            0.0000e+00,  0.0000e+00],\n",
       "          [ 0.0000e+00,  0.0000e+00,  0.0000e+00,  ...,  0.0000e+00,\n",
       "            0.0000e+00,  0.0000e+00],\n",
       "          [ 0.0000e+00,  0.0000e+00,  0.0000e+00,  ...,  0.0000e+00,\n",
       "            2.9802e-08,  5.9605e-08]],\n",
       "\n",
       "         [[ 0.0000e+00, -5.9605e-08,  0.0000e+00,  ..., -2.9802e-08,\n",
       "            0.0000e+00,  1.4901e-08],\n",
       "          [ 1.1921e-07,  5.9605e-08,  0.0000e+00,  ..., -1.1921e-07,\n",
       "           -2.9802e-08, -3.7253e-08],\n",
       "          [-5.9605e-08,  0.0000e+00,  0.0000e+00,  ..., -2.2352e-08,\n",
       "            5.9605e-08,  0.0000e+00],\n",
       "          ...,\n",
       "          [ 2.2352e-08,  0.0000e+00,  0.0000e+00,  ...,  1.1921e-07,\n",
       "           -1.1921e-07,  1.1921e-07],\n",
       "          [ 0.0000e+00,  2.9802e-08,  0.0000e+00,  ...,  1.1921e-07,\n",
       "            5.9605e-08,  5.9605e-08],\n",
       "          [-9.3132e-09, -2.9802e-08,  0.0000e+00,  ...,  2.9802e-08,\n",
       "           -7.4506e-08,  0.0000e+00]],\n",
       "\n",
       "         [[-5.9605e-08,  2.2352e-08, -1.1921e-07,  ...,  0.0000e+00,\n",
       "           -3.1665e-08,  5.9605e-08],\n",
       "          [ 1.1921e-07,  0.0000e+00,  2.9802e-08,  ..., -4.4703e-08,\n",
       "            3.7253e-08,  1.4901e-08],\n",
       "          [-1.1921e-07, -1.1921e-07,  0.0000e+00,  ..., -2.9802e-08,\n",
       "            0.0000e+00,  3.7253e-09],\n",
       "          ...,\n",
       "          [-5.9605e-08,  0.0000e+00, -2.9802e-08,  ..., -1.4901e-08,\n",
       "            1.1921e-07,  2.9802e-08],\n",
       "          [ 1.1921e-07,  1.4901e-08, -2.9802e-08,  ...,  2.9802e-08,\n",
       "            5.9605e-08,  0.0000e+00],\n",
       "          [ 0.0000e+00,  0.0000e+00, -1.7066e-07,  ..., -2.9802e-08,\n",
       "            0.0000e+00,  1.1921e-07]]],\n",
       "\n",
       "\n",
       "        [[[ 0.0000e+00,  0.0000e+00,  0.0000e+00,  ...,  0.0000e+00,\n",
       "            0.0000e+00,  0.0000e+00],\n",
       "          [ 0.0000e+00,  0.0000e+00,  0.0000e+00,  ...,  0.0000e+00,\n",
       "            0.0000e+00,  0.0000e+00],\n",
       "          [ 0.0000e+00,  0.0000e+00,  0.0000e+00,  ...,  0.0000e+00,\n",
       "            0.0000e+00,  0.0000e+00],\n",
       "          ...,\n",
       "          [ 0.0000e+00,  0.0000e+00,  0.0000e+00,  ...,  0.0000e+00,\n",
       "            0.0000e+00,  0.0000e+00],\n",
       "          [ 0.0000e+00,  0.0000e+00,  0.0000e+00,  ...,  0.0000e+00,\n",
       "            0.0000e+00,  0.0000e+00],\n",
       "          [ 0.0000e+00,  0.0000e+00,  0.0000e+00,  ..., -5.9605e-08,\n",
       "           -1.4901e-08, -6.7055e-08]],\n",
       "\n",
       "         [[ 0.0000e+00,  0.0000e+00,  0.0000e+00,  ...,  0.0000e+00,\n",
       "            0.0000e+00,  0.0000e+00],\n",
       "          [ 0.0000e+00,  0.0000e+00,  0.0000e+00,  ...,  0.0000e+00,\n",
       "            0.0000e+00,  0.0000e+00],\n",
       "          [ 0.0000e+00,  0.0000e+00,  0.0000e+00,  ...,  0.0000e+00,\n",
       "            0.0000e+00,  0.0000e+00],\n",
       "          ...,\n",
       "          [ 0.0000e+00,  0.0000e+00,  0.0000e+00,  ...,  0.0000e+00,\n",
       "            0.0000e+00,  0.0000e+00],\n",
       "          [ 0.0000e+00,  0.0000e+00,  0.0000e+00,  ...,  0.0000e+00,\n",
       "            0.0000e+00,  0.0000e+00],\n",
       "          [ 0.0000e+00,  0.0000e+00,  0.0000e+00,  ...,  0.0000e+00,\n",
       "            2.9802e-08,  5.9605e-08]],\n",
       "\n",
       "         [[ 0.0000e+00,  0.0000e+00,  0.0000e+00,  ...,  0.0000e+00,\n",
       "            0.0000e+00,  0.0000e+00],\n",
       "          [ 0.0000e+00,  0.0000e+00,  0.0000e+00,  ...,  0.0000e+00,\n",
       "            0.0000e+00,  0.0000e+00],\n",
       "          [ 0.0000e+00,  0.0000e+00,  0.0000e+00,  ...,  0.0000e+00,\n",
       "            0.0000e+00,  0.0000e+00],\n",
       "          ...,\n",
       "          [ 0.0000e+00,  0.0000e+00,  0.0000e+00,  ...,  0.0000e+00,\n",
       "            0.0000e+00,  0.0000e+00],\n",
       "          [ 0.0000e+00,  0.0000e+00,  0.0000e+00,  ...,  0.0000e+00,\n",
       "            0.0000e+00,  0.0000e+00],\n",
       "          [ 0.0000e+00,  0.0000e+00,  0.0000e+00,  ...,  0.0000e+00,\n",
       "            0.0000e+00, -5.9605e-08]],\n",
       "\n",
       "         ...,\n",
       "\n",
       "         [[ 0.0000e+00,  0.0000e+00,  0.0000e+00,  ...,  0.0000e+00,\n",
       "            0.0000e+00,  0.0000e+00],\n",
       "          [ 0.0000e+00,  0.0000e+00,  0.0000e+00,  ...,  0.0000e+00,\n",
       "            0.0000e+00,  0.0000e+00],\n",
       "          [ 0.0000e+00,  0.0000e+00,  0.0000e+00,  ...,  0.0000e+00,\n",
       "            0.0000e+00,  0.0000e+00],\n",
       "          ...,\n",
       "          [ 0.0000e+00,  0.0000e+00,  0.0000e+00,  ...,  0.0000e+00,\n",
       "            0.0000e+00,  0.0000e+00],\n",
       "          [ 0.0000e+00,  0.0000e+00,  0.0000e+00,  ...,  0.0000e+00,\n",
       "            0.0000e+00,  0.0000e+00],\n",
       "          [ 0.0000e+00,  0.0000e+00,  0.0000e+00,  ...,  5.9605e-08,\n",
       "           -8.9407e-08, -5.9605e-08]],\n",
       "\n",
       "         [[ 5.9605e-08,  5.9605e-08,  1.1921e-07,  ..., -5.9605e-08,\n",
       "           -2.9802e-08,  5.9605e-08],\n",
       "          [-2.9802e-08,  0.0000e+00, -5.9605e-08,  ..., -1.4901e-08,\n",
       "            1.0943e-08, -5.9605e-08],\n",
       "          [ 0.0000e+00, -2.9802e-08,  2.9802e-08,  ..., -2.9802e-08,\n",
       "            2.9802e-08,  0.0000e+00],\n",
       "          ...,\n",
       "          [ 4.4703e-08,  0.0000e+00,  2.9802e-08,  ..., -2.9802e-08,\n",
       "            6.5193e-09, -7.4506e-09],\n",
       "          [-1.1921e-07, -4.8429e-08,  5.9605e-08,  ...,  0.0000e+00,\n",
       "           -5.9605e-08,  1.1921e-07],\n",
       "          [ 0.0000e+00,  3.1665e-08,  0.0000e+00,  ...,  8.9407e-08,\n",
       "           -1.4901e-08,  0.0000e+00]],\n",
       "\n",
       "         [[-5.9605e-08, -2.3842e-07,  0.0000e+00,  ...,  2.9802e-08,\n",
       "           -5.9605e-08,  0.0000e+00],\n",
       "          [-4.5635e-08,  1.4901e-08,  0.0000e+00,  ...,  2.9802e-08,\n",
       "            5.9605e-08,  0.0000e+00],\n",
       "          [ 5.9605e-08,  1.4901e-08,  5.9605e-08,  ..., -1.1921e-07,\n",
       "            0.0000e+00, -5.9605e-08],\n",
       "          ...,\n",
       "          [ 1.4901e-08, -2.9802e-08,  0.0000e+00,  ...,  1.4901e-08,\n",
       "            0.0000e+00,  0.0000e+00],\n",
       "          [ 5.2154e-08,  2.9802e-08, -1.4901e-08,  ..., -5.9605e-08,\n",
       "            0.0000e+00, -2.9802e-08],\n",
       "          [ 5.9605e-08,  5.9605e-08,  2.9802e-08,  ...,  0.0000e+00,\n",
       "           -7.4506e-09,  0.0000e+00]]],\n",
       "\n",
       "\n",
       "        [[[ 0.0000e+00,  0.0000e+00,  0.0000e+00,  ...,  0.0000e+00,\n",
       "            0.0000e+00,  0.0000e+00],\n",
       "          [ 0.0000e+00,  0.0000e+00,  0.0000e+00,  ...,  0.0000e+00,\n",
       "            0.0000e+00,  0.0000e+00],\n",
       "          [ 0.0000e+00,  0.0000e+00,  0.0000e+00,  ...,  0.0000e+00,\n",
       "            0.0000e+00,  0.0000e+00],\n",
       "          ...,\n",
       "          [ 0.0000e+00,  0.0000e+00,  0.0000e+00,  ...,  0.0000e+00,\n",
       "            0.0000e+00,  0.0000e+00],\n",
       "          [ 0.0000e+00,  0.0000e+00,  0.0000e+00,  ...,  0.0000e+00,\n",
       "            0.0000e+00,  0.0000e+00],\n",
       "          [ 0.0000e+00,  0.0000e+00,  0.0000e+00,  ...,  2.9802e-08,\n",
       "            5.9605e-08, -5.9605e-08]],\n",
       "\n",
       "         [[ 0.0000e+00,  0.0000e+00,  0.0000e+00,  ...,  0.0000e+00,\n",
       "            0.0000e+00,  0.0000e+00],\n",
       "          [ 0.0000e+00,  0.0000e+00,  0.0000e+00,  ...,  0.0000e+00,\n",
       "            0.0000e+00,  0.0000e+00],\n",
       "          [ 0.0000e+00,  0.0000e+00,  0.0000e+00,  ...,  0.0000e+00,\n",
       "            0.0000e+00,  0.0000e+00],\n",
       "          ...,\n",
       "          [ 0.0000e+00,  0.0000e+00,  0.0000e+00,  ...,  0.0000e+00,\n",
       "            0.0000e+00,  0.0000e+00],\n",
       "          [ 0.0000e+00,  0.0000e+00,  0.0000e+00,  ...,  0.0000e+00,\n",
       "            0.0000e+00,  0.0000e+00],\n",
       "          [ 0.0000e+00,  0.0000e+00,  0.0000e+00,  ...,  5.9605e-08,\n",
       "            5.9605e-08,  1.1921e-07]],\n",
       "\n",
       "         [[ 0.0000e+00,  0.0000e+00,  0.0000e+00,  ...,  0.0000e+00,\n",
       "            0.0000e+00,  0.0000e+00],\n",
       "          [ 0.0000e+00,  0.0000e+00,  0.0000e+00,  ...,  0.0000e+00,\n",
       "            0.0000e+00,  0.0000e+00],\n",
       "          [ 0.0000e+00,  0.0000e+00,  0.0000e+00,  ...,  0.0000e+00,\n",
       "            0.0000e+00,  0.0000e+00],\n",
       "          ...,\n",
       "          [ 0.0000e+00,  0.0000e+00,  0.0000e+00,  ...,  0.0000e+00,\n",
       "            0.0000e+00,  0.0000e+00],\n",
       "          [ 0.0000e+00,  0.0000e+00,  0.0000e+00,  ...,  0.0000e+00,\n",
       "            0.0000e+00,  0.0000e+00],\n",
       "          [ 0.0000e+00,  0.0000e+00,  0.0000e+00,  ...,  0.0000e+00,\n",
       "            5.9605e-08, -2.9802e-08]],\n",
       "\n",
       "         ...,\n",
       "\n",
       "         [[ 0.0000e+00,  0.0000e+00,  0.0000e+00,  ...,  0.0000e+00,\n",
       "            0.0000e+00,  0.0000e+00],\n",
       "          [ 0.0000e+00,  0.0000e+00,  0.0000e+00,  ...,  0.0000e+00,\n",
       "            0.0000e+00,  0.0000e+00],\n",
       "          [ 0.0000e+00,  0.0000e+00,  0.0000e+00,  ...,  0.0000e+00,\n",
       "            0.0000e+00,  0.0000e+00],\n",
       "          ...,\n",
       "          [ 0.0000e+00,  0.0000e+00,  0.0000e+00,  ...,  0.0000e+00,\n",
       "            0.0000e+00,  0.0000e+00],\n",
       "          [ 0.0000e+00,  0.0000e+00,  0.0000e+00,  ...,  0.0000e+00,\n",
       "            0.0000e+00,  0.0000e+00],\n",
       "          [ 0.0000e+00,  0.0000e+00,  0.0000e+00,  ...,  2.9802e-08,\n",
       "            0.0000e+00,  5.5879e-09]],\n",
       "\n",
       "         [[ 0.0000e+00, -3.7253e-09, -7.4506e-08,  ..., -5.9605e-08,\n",
       "            0.0000e+00,  0.0000e+00],\n",
       "          [-1.7881e-07,  0.0000e+00,  5.9605e-08,  ...,  0.0000e+00,\n",
       "           -2.9802e-08,  4.4703e-08],\n",
       "          [-2.9802e-08,  5.9605e-08,  0.0000e+00,  ...,  8.9407e-08,\n",
       "            2.9802e-08,  5.9605e-08],\n",
       "          ...,\n",
       "          [-1.4901e-07,  5.9605e-08,  0.0000e+00,  ...,  0.0000e+00,\n",
       "            5.9605e-08, -5.9605e-08],\n",
       "          [-9.3132e-09,  0.0000e+00,  0.0000e+00,  ..., -5.9605e-08,\n",
       "           -2.9802e-08,  0.0000e+00],\n",
       "          [ 2.9802e-08,  5.9605e-08,  0.0000e+00,  ...,  2.2352e-08,\n",
       "            0.0000e+00,  2.9802e-08]],\n",
       "\n",
       "         [[ 5.9605e-08,  2.3842e-07, -5.9605e-08,  ...,  1.2107e-08,\n",
       "            5.9605e-08,  8.9407e-08],\n",
       "          [ 0.0000e+00, -1.4901e-08,  5.9605e-08,  ..., -5.9605e-08,\n",
       "           -5.9605e-08, -2.9802e-08],\n",
       "          [ 1.4901e-08,  0.0000e+00,  0.0000e+00,  ...,  2.9802e-08,\n",
       "            2.9802e-08,  1.1921e-07],\n",
       "          ...,\n",
       "          [-2.9802e-08, -1.8626e-08,  8.9407e-08,  ...,  5.9605e-08,\n",
       "            5.9605e-08, -2.6077e-08],\n",
       "          [ 0.0000e+00, -2.9802e-08,  0.0000e+00,  ...,  2.2352e-08,\n",
       "           -5.9605e-08,  0.0000e+00],\n",
       "          [ 0.0000e+00,  0.0000e+00,  0.0000e+00,  ..., -2.9802e-08,\n",
       "            0.0000e+00, -5.2154e-08]]],\n",
       "\n",
       "\n",
       "        [[[ 0.0000e+00,  0.0000e+00,  0.0000e+00,  ...,  0.0000e+00,\n",
       "            0.0000e+00,  0.0000e+00],\n",
       "          [ 0.0000e+00,  0.0000e+00,  0.0000e+00,  ...,  0.0000e+00,\n",
       "            0.0000e+00,  0.0000e+00],\n",
       "          [ 0.0000e+00,  0.0000e+00,  0.0000e+00,  ...,  0.0000e+00,\n",
       "            0.0000e+00,  0.0000e+00],\n",
       "          ...,\n",
       "          [ 0.0000e+00,  0.0000e+00,  0.0000e+00,  ...,  0.0000e+00,\n",
       "            0.0000e+00,  0.0000e+00],\n",
       "          [ 0.0000e+00,  0.0000e+00,  0.0000e+00,  ...,  0.0000e+00,\n",
       "            0.0000e+00,  0.0000e+00],\n",
       "          [ 0.0000e+00,  0.0000e+00,  0.0000e+00,  ..., -3.3528e-08,\n",
       "            8.9407e-08,  2.9802e-08]],\n",
       "\n",
       "         [[ 0.0000e+00,  0.0000e+00,  0.0000e+00,  ...,  0.0000e+00,\n",
       "            0.0000e+00,  0.0000e+00],\n",
       "          [ 0.0000e+00,  0.0000e+00,  0.0000e+00,  ...,  0.0000e+00,\n",
       "            0.0000e+00,  0.0000e+00],\n",
       "          [ 0.0000e+00,  0.0000e+00,  0.0000e+00,  ...,  0.0000e+00,\n",
       "            0.0000e+00,  0.0000e+00],\n",
       "          ...,\n",
       "          [ 0.0000e+00,  0.0000e+00,  0.0000e+00,  ...,  0.0000e+00,\n",
       "            0.0000e+00,  0.0000e+00],\n",
       "          [ 0.0000e+00,  0.0000e+00,  0.0000e+00,  ...,  0.0000e+00,\n",
       "            0.0000e+00,  0.0000e+00],\n",
       "          [ 0.0000e+00,  0.0000e+00,  0.0000e+00,  ..., -2.9802e-08,\n",
       "            0.0000e+00,  0.0000e+00]],\n",
       "\n",
       "         [[ 0.0000e+00,  0.0000e+00,  0.0000e+00,  ...,  0.0000e+00,\n",
       "            0.0000e+00,  0.0000e+00],\n",
       "          [ 0.0000e+00,  0.0000e+00,  0.0000e+00,  ...,  0.0000e+00,\n",
       "            0.0000e+00,  0.0000e+00],\n",
       "          [ 0.0000e+00,  0.0000e+00,  0.0000e+00,  ...,  0.0000e+00,\n",
       "            0.0000e+00,  0.0000e+00],\n",
       "          ...,\n",
       "          [ 0.0000e+00,  0.0000e+00,  0.0000e+00,  ...,  0.0000e+00,\n",
       "            0.0000e+00,  0.0000e+00],\n",
       "          [ 0.0000e+00,  0.0000e+00,  0.0000e+00,  ...,  0.0000e+00,\n",
       "            0.0000e+00,  0.0000e+00],\n",
       "          [ 0.0000e+00,  0.0000e+00,  0.0000e+00,  ..., -1.4901e-08,\n",
       "            0.0000e+00, -2.9802e-08]],\n",
       "\n",
       "         ...,\n",
       "\n",
       "         [[ 0.0000e+00,  0.0000e+00,  0.0000e+00,  ...,  0.0000e+00,\n",
       "            0.0000e+00,  0.0000e+00],\n",
       "          [ 0.0000e+00,  0.0000e+00,  0.0000e+00,  ...,  0.0000e+00,\n",
       "            0.0000e+00,  0.0000e+00],\n",
       "          [ 0.0000e+00,  0.0000e+00,  0.0000e+00,  ...,  0.0000e+00,\n",
       "            0.0000e+00,  0.0000e+00],\n",
       "          ...,\n",
       "          [ 0.0000e+00,  0.0000e+00,  0.0000e+00,  ...,  0.0000e+00,\n",
       "            0.0000e+00,  0.0000e+00],\n",
       "          [ 0.0000e+00,  0.0000e+00,  0.0000e+00,  ...,  0.0000e+00,\n",
       "            0.0000e+00,  0.0000e+00],\n",
       "          [ 0.0000e+00,  0.0000e+00,  0.0000e+00,  ..., -2.9802e-08,\n",
       "           -7.4506e-09, -2.2352e-08]],\n",
       "\n",
       "         [[ 0.0000e+00, -7.4506e-09,  0.0000e+00,  ...,  5.9605e-08,\n",
       "            0.0000e+00, -5.9605e-08],\n",
       "          [ 0.0000e+00,  5.9605e-08,  1.8626e-08,  ..., -1.1921e-07,\n",
       "            0.0000e+00,  0.0000e+00],\n",
       "          [ 0.0000e+00,  0.0000e+00, -5.9605e-08,  ..., -1.1921e-07,\n",
       "            0.0000e+00, -5.9605e-08],\n",
       "          ...,\n",
       "          [ 0.0000e+00, -1.4901e-08,  2.9802e-08,  ...,  3.7253e-08,\n",
       "           -1.0431e-07, -5.9605e-08],\n",
       "          [-1.1921e-07,  0.0000e+00, -1.4901e-08,  ..., -1.1921e-07,\n",
       "            0.0000e+00,  1.1921e-07],\n",
       "          [-2.9802e-08, -5.9605e-08,  0.0000e+00,  ...,  5.9605e-08,\n",
       "            7.4506e-08,  0.0000e+00]],\n",
       "\n",
       "         [[ 1.1921e-07,  1.4901e-08, -5.9605e-08,  ..., -1.4901e-08,\n",
       "            4.4703e-08,  0.0000e+00],\n",
       "          [ 0.0000e+00,  5.9605e-08, -2.9802e-08,  ..., -5.9605e-08,\n",
       "            0.0000e+00, -2.9802e-08],\n",
       "          [-5.9605e-08,  2.9802e-08,  1.4901e-08,  ..., -2.9802e-08,\n",
       "            0.0000e+00,  5.9605e-08],\n",
       "          ...,\n",
       "          [-2.9802e-08,  5.9605e-08,  1.1921e-07,  ...,  2.9802e-08,\n",
       "            0.0000e+00, -3.7253e-08],\n",
       "          [ 0.0000e+00, -9.3132e-09,  0.0000e+00,  ..., -5.9605e-08,\n",
       "           -1.4901e-08, -5.9605e-08],\n",
       "          [-5.9605e-08,  1.4901e-08,  0.0000e+00,  ...,  0.0000e+00,\n",
       "            0.0000e+00, -5.9605e-08]]],\n",
       "\n",
       "\n",
       "        [[[ 0.0000e+00,  0.0000e+00,  0.0000e+00,  ...,  0.0000e+00,\n",
       "            0.0000e+00,  0.0000e+00],\n",
       "          [ 0.0000e+00,  0.0000e+00,  0.0000e+00,  ...,  0.0000e+00,\n",
       "            0.0000e+00,  0.0000e+00],\n",
       "          [ 0.0000e+00,  0.0000e+00,  0.0000e+00,  ...,  0.0000e+00,\n",
       "            0.0000e+00,  0.0000e+00],\n",
       "          ...,\n",
       "          [ 0.0000e+00,  0.0000e+00,  0.0000e+00,  ...,  0.0000e+00,\n",
       "            0.0000e+00,  0.0000e+00],\n",
       "          [ 0.0000e+00,  0.0000e+00,  0.0000e+00,  ...,  0.0000e+00,\n",
       "            0.0000e+00,  0.0000e+00],\n",
       "          [ 0.0000e+00,  0.0000e+00,  0.0000e+00,  ..., -2.9802e-08,\n",
       "            0.0000e+00, -2.9802e-08]],\n",
       "\n",
       "         [[ 0.0000e+00,  0.0000e+00,  0.0000e+00,  ...,  0.0000e+00,\n",
       "            0.0000e+00,  0.0000e+00],\n",
       "          [ 0.0000e+00,  0.0000e+00,  0.0000e+00,  ...,  0.0000e+00,\n",
       "            0.0000e+00,  0.0000e+00],\n",
       "          [ 0.0000e+00,  0.0000e+00,  0.0000e+00,  ...,  0.0000e+00,\n",
       "            0.0000e+00,  0.0000e+00],\n",
       "          ...,\n",
       "          [ 0.0000e+00,  0.0000e+00,  0.0000e+00,  ...,  0.0000e+00,\n",
       "            0.0000e+00,  0.0000e+00],\n",
       "          [ 0.0000e+00,  0.0000e+00,  0.0000e+00,  ...,  0.0000e+00,\n",
       "            0.0000e+00,  0.0000e+00],\n",
       "          [ 0.0000e+00,  0.0000e+00,  0.0000e+00,  ..., -5.9605e-08,\n",
       "           -4.4703e-08, -2.9802e-08]],\n",
       "\n",
       "         [[ 0.0000e+00,  0.0000e+00,  0.0000e+00,  ...,  0.0000e+00,\n",
       "            0.0000e+00,  0.0000e+00],\n",
       "          [ 0.0000e+00,  0.0000e+00,  0.0000e+00,  ...,  0.0000e+00,\n",
       "            0.0000e+00,  0.0000e+00],\n",
       "          [ 0.0000e+00,  0.0000e+00,  0.0000e+00,  ...,  0.0000e+00,\n",
       "            0.0000e+00,  0.0000e+00],\n",
       "          ...,\n",
       "          [ 0.0000e+00,  0.0000e+00,  0.0000e+00,  ...,  0.0000e+00,\n",
       "            0.0000e+00,  0.0000e+00],\n",
       "          [ 0.0000e+00,  0.0000e+00,  0.0000e+00,  ...,  0.0000e+00,\n",
       "            0.0000e+00,  0.0000e+00],\n",
       "          [ 0.0000e+00,  0.0000e+00,  0.0000e+00,  ..., -5.9605e-08,\n",
       "            0.0000e+00,  0.0000e+00]],\n",
       "\n",
       "         ...,\n",
       "\n",
       "         [[ 0.0000e+00,  0.0000e+00,  0.0000e+00,  ...,  0.0000e+00,\n",
       "            0.0000e+00,  0.0000e+00],\n",
       "          [ 0.0000e+00,  0.0000e+00,  0.0000e+00,  ...,  0.0000e+00,\n",
       "            0.0000e+00,  0.0000e+00],\n",
       "          [ 0.0000e+00,  0.0000e+00,  0.0000e+00,  ...,  0.0000e+00,\n",
       "            0.0000e+00,  0.0000e+00],\n",
       "          ...,\n",
       "          [ 0.0000e+00,  0.0000e+00,  0.0000e+00,  ...,  0.0000e+00,\n",
       "            0.0000e+00,  0.0000e+00],\n",
       "          [ 0.0000e+00,  0.0000e+00,  0.0000e+00,  ...,  0.0000e+00,\n",
       "            0.0000e+00,  0.0000e+00],\n",
       "          [ 0.0000e+00,  0.0000e+00,  0.0000e+00,  ..., -2.2352e-08,\n",
       "            2.9802e-08,  0.0000e+00]],\n",
       "\n",
       "         [[-5.9605e-08,  0.0000e+00, -4.4703e-08,  ..., -2.9802e-08,\n",
       "           -1.1921e-07,  0.0000e+00],\n",
       "          [ 0.0000e+00,  2.9802e-08, -3.7253e-08,  ...,  3.7253e-09,\n",
       "           -8.9407e-08, -1.4901e-08],\n",
       "          [-2.9802e-08, -2.2352e-08, -1.1921e-07,  ..., -7.4506e-09,\n",
       "           -2.9802e-08,  5.9605e-08],\n",
       "          ...,\n",
       "          [-2.2352e-08,  0.0000e+00,  2.9802e-08,  ...,  0.0000e+00,\n",
       "            5.9605e-08,  2.9802e-08],\n",
       "          [-2.9802e-08,  4.4703e-08,  5.9605e-08,  ...,  1.4156e-07,\n",
       "            0.0000e+00,  0.0000e+00],\n",
       "          [-5.6811e-08,  7.4506e-09,  1.1921e-07,  ...,  2.9802e-08,\n",
       "            0.0000e+00,  0.0000e+00]],\n",
       "\n",
       "         [[ 2.9802e-08,  0.0000e+00,  0.0000e+00,  ...,  5.9605e-08,\n",
       "            1.4901e-08,  0.0000e+00],\n",
       "          [ 0.0000e+00,  0.0000e+00, -2.9802e-08,  ...,  0.0000e+00,\n",
       "           -5.9605e-08,  0.0000e+00],\n",
       "          [ 0.0000e+00,  5.9605e-08, -5.9605e-08,  ..., -2.9802e-08,\n",
       "            0.0000e+00,  1.1921e-07],\n",
       "          ...,\n",
       "          [ 0.0000e+00, -1.8626e-08,  4.4703e-08,  ...,  0.0000e+00,\n",
       "            0.0000e+00,  1.1921e-07],\n",
       "          [-5.9605e-08,  0.0000e+00,  0.0000e+00,  ...,  5.9605e-08,\n",
       "            0.0000e+00,  7.4506e-08],\n",
       "          [ 0.0000e+00, -2.9802e-08,  0.0000e+00,  ...,  5.9605e-08,\n",
       "            0.0000e+00,  0.0000e+00]]]], grad_fn=<SubBackward0>)"
      ]
     },
     "execution_count": 49,
     "metadata": {},
     "output_type": "execute_result"
    }
   ],
   "source": [
    "# It is basically a linear mapping\n",
    "test_inp = torch.randn(5,16,10,10)\n",
    "conv1x1(test_inp) - test_inp.permute(0,2,3,1).matmul(conv1x1.weight[:,:,0,0].T).permute(0,3,1,2)"
   ]
  },
  {
   "cell_type": "code",
   "execution_count": 52,
   "id": "d37c134c",
   "metadata": {},
   "outputs": [
    {
     "data": {
      "text/plain": [
       "torch.Size([16, 75, 784])"
      ]
     },
     "execution_count": 52,
     "metadata": {},
     "output_type": "execute_result"
    }
   ],
   "source": [
    "# Actualy whole convolution is a linear mapping, if you preprocess the input\n",
    "unfolded_input = nn.Unfold(5)(input)\n",
    "unfolded_input.shape"
   ]
  },
  {
   "cell_type": "code",
   "execution_count": 53,
   "id": "f5df2f70",
   "metadata": {},
   "outputs": [
    {
     "data": {
      "text/plain": [
       "torch.Size([128, 3, 5, 5])"
      ]
     },
     "execution_count": 53,
     "metadata": {},
     "output_type": "execute_result"
    }
   ],
   "source": [
    "conv_layer.weight.shape"
   ]
  },
  {
   "cell_type": "code",
   "execution_count": 64,
   "id": "f49558cb",
   "metadata": {},
   "outputs": [
    {
     "data": {
      "text/plain": [
       "tensor([-1.1921e-07, -2.3842e-07,  5.9605e-08,  ..., -8.9407e-08,\n",
       "         5.9605e-08,  0.0000e+00], grad_fn=<SubBackward0>)"
      ]
     },
     "execution_count": 64,
     "metadata": {},
     "output_type": "execute_result"
    }
   ],
   "source": [
    "(conv_layer(input).flatten() - unfolded_input.permute(0,2,1).matmul(conv_layer.weight.flatten(1).T).permute(0,2,1).flatten())"
   ]
  },
  {
   "cell_type": "markdown",
   "id": "54d40d4b",
   "metadata": {},
   "source": [
    "## Embedding layer\n",
    "\n",
    "Embedding - conversion of any object to vector\n",
    "\n",
    "Pytorch embedding layer - convert object id (e.g. word id to vector)"
   ]
  },
  {
   "cell_type": "code",
   "execution_count": 65,
   "id": "71f12899",
   "metadata": {},
   "outputs": [
    {
     "data": {
      "text/plain": [
       "torch.Size([1000, 128])"
      ]
     },
     "execution_count": 65,
     "metadata": {},
     "output_type": "execute_result"
    }
   ],
   "source": [
    "vocab_size = 1000\n",
    "embed_size = 128\n",
    "embed = nn.Embedding(vocab_size, embed_size)\n",
    "embed.weight.shape"
   ]
  },
  {
   "cell_type": "code",
   "execution_count": 67,
   "id": "525ff014",
   "metadata": {},
   "outputs": [
    {
     "data": {
      "text/plain": [
       "torch.Size([3, 128])"
      ]
     },
     "execution_count": 67,
     "metadata": {},
     "output_type": "execute_result"
    }
   ],
   "source": [
    "embed(torch.LongTensor([2,3,4])).shape"
   ]
  },
  {
   "cell_type": "code",
   "execution_count": 69,
   "id": "d6ffe303",
   "metadata": {},
   "outputs": [
    {
     "data": {
      "text/plain": [
       "(tensor([[-0.9237, -0.6472,  1.1971,  0.9994, -1.2206, -1.4764,  1.0016,  1.1442,\n",
       "           1.2410, -0.3481, -0.7893,  1.3535,  1.4104,  1.1783, -1.5198,  0.7974,\n",
       "           0.4115, -0.0607, -1.8658,  0.6741,  0.2586, -0.2132,  0.1654,  0.5073,\n",
       "          -1.6816, -0.8054,  0.5403, -0.1652,  0.0464,  0.8734,  0.6037,  1.0150,\n",
       "          -0.2476,  0.3262,  1.2318, -0.6452,  1.7648,  0.8025,  0.9823, -0.4644,\n",
       "           0.9282,  0.1903,  0.2018,  0.0560,  0.5044, -0.6005, -0.6539, -0.3771,\n",
       "          -0.0761,  0.5647,  0.1204, -0.6129,  1.5916,  1.2390,  1.2994, -1.6607,\n",
       "           0.1269, -0.1586, -0.4864,  0.2726,  1.0013,  0.9057,  0.5320,  0.8194,\n",
       "          -0.5096, -2.7798, -0.1462,  0.2915,  0.1753, -0.3145, -1.1040,  0.4925,\n",
       "          -0.6176, -0.7947,  3.1103, -1.3930, -1.0739,  0.9094,  0.6027, -0.8135,\n",
       "          -1.5648, -0.1773,  0.1403, -0.8172,  0.2549,  1.4679, -0.7352,  0.6699,\n",
       "           1.7499,  1.9686,  0.0284, -0.4604,  0.2086,  1.5432, -0.7240,  0.7032,\n",
       "           0.5940,  0.8150, -0.6007,  2.3495,  0.0715, -0.0989, -0.8446, -0.7819,\n",
       "           0.6271, -1.4300, -0.4635,  0.1279,  1.6762,  0.5906,  0.1166, -0.0651,\n",
       "           0.1264, -0.8050, -1.3726, -1.4251, -0.9551, -0.3615,  0.1765,  2.4584,\n",
       "           0.3200,  0.3272,  0.9920, -1.4780, -0.1342,  0.2472, -0.3687, -0.7234]],\n",
       "        grad_fn=<EmbeddingBackward0>),\n",
       " tensor([-0.9237, -0.6472,  1.1971,  0.9994, -1.2206, -1.4764,  1.0016,  1.1442,\n",
       "          1.2410, -0.3481, -0.7893,  1.3535,  1.4104,  1.1783, -1.5198,  0.7974,\n",
       "          0.4115, -0.0607, -1.8658,  0.6741,  0.2586, -0.2132,  0.1654,  0.5073,\n",
       "         -1.6816, -0.8054,  0.5403, -0.1652,  0.0464,  0.8734,  0.6037,  1.0150,\n",
       "         -0.2476,  0.3262,  1.2318, -0.6452,  1.7648,  0.8025,  0.9823, -0.4644,\n",
       "          0.9282,  0.1903,  0.2018,  0.0560,  0.5044, -0.6005, -0.6539, -0.3771,\n",
       "         -0.0761,  0.5647,  0.1204, -0.6129,  1.5916,  1.2390,  1.2994, -1.6607,\n",
       "          0.1269, -0.1586, -0.4864,  0.2726,  1.0013,  0.9057,  0.5320,  0.8194,\n",
       "         -0.5096, -2.7798, -0.1462,  0.2915,  0.1753, -0.3145, -1.1040,  0.4925,\n",
       "         -0.6176, -0.7947,  3.1103, -1.3930, -1.0739,  0.9094,  0.6027, -0.8135,\n",
       "         -1.5648, -0.1773,  0.1403, -0.8172,  0.2549,  1.4679, -0.7352,  0.6699,\n",
       "          1.7499,  1.9686,  0.0284, -0.4604,  0.2086,  1.5432, -0.7240,  0.7032,\n",
       "          0.5940,  0.8150, -0.6007,  2.3495,  0.0715, -0.0989, -0.8446, -0.7819,\n",
       "          0.6271, -1.4300, -0.4635,  0.1279,  1.6762,  0.5906,  0.1166, -0.0651,\n",
       "          0.1264, -0.8050, -1.3726, -1.4251, -0.9551, -0.3615,  0.1765,  2.4584,\n",
       "          0.3200,  0.3272,  0.9920, -1.4780, -0.1342,  0.2472, -0.3687, -0.7234],\n",
       "        grad_fn=<SelectBackward0>))"
      ]
     },
     "execution_count": 69,
     "metadata": {},
     "output_type": "execute_result"
    }
   ],
   "source": [
    "embed(torch.LongTensor([2])), embed.weight[2]"
   ]
  },
  {
   "cell_type": "markdown",
   "id": "0d6f60b4",
   "metadata": {},
   "source": [
    "## Transformer\n",
    "\n",
    "https://fleuret.org/dlc/materials/dlc-slides-13-2-attention-mechanisms.pdf"
   ]
  },
  {
   "cell_type": "code",
   "execution_count": null,
   "id": "6e6f2861",
   "metadata": {},
   "outputs": [],
   "source": []
  }
 ],
 "metadata": {
  "kernelspec": {
   "display_name": "Python 3 (ipykernel)",
   "language": "python",
   "name": "python3"
  },
  "language_info": {
   "codemirror_mode": {
    "name": "ipython",
    "version": 3
   },
   "file_extension": ".py",
   "mimetype": "text/x-python",
   "name": "python",
   "nbconvert_exporter": "python",
   "pygments_lexer": "ipython3",
   "version": "3.11.10"
  }
 },
 "nbformat": 4,
 "nbformat_minor": 5
}
